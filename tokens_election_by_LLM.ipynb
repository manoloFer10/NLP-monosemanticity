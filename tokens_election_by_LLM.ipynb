{
 "cells": [
  {
   "cell_type": "code",
   "execution_count": 40,
   "metadata": {},
   "outputs": [],
   "source": [
    "import ollama\n",
    "import csv"
   ]
  },
  {
   "cell_type": "markdown",
   "metadata": {},
   "source": [
    "## Prompt\n",
    "You are a linguistic expert evaluating the interpretability of two datasets. \n",
    "\n",
    "Evaluate the interpretability of the two sets of words below. A set is more interpretable if it reflects clear semantic patterns or categories, has meaningful diversity, and maintains contextual coherence across the words. Consider repetition only if it highlights important linguistic patterns. Choose the set that better meets these criteria\n",
    "\n",
    "\n",
    "Dataset 1: {dataset1} \n",
    "\n",
    "Dataset 2: {dataset2}\n",
    "\n",
    "Which dataset is more interpretable?\n",
    "\n",
    "Respond ONLY with the dataset number  \"1\" or \"2\""
   ]
  },
  {
   "cell_type": "code",
   "execution_count": 56,
   "metadata": {},
   "outputs": [],
   "source": [
    "def more_interpretable(dataset1, dataset2):\n",
    "    return ollama.generate(\n",
    "        model='gemma2:9b', \n",
    "        options={'temperature': 0.001},\n",
    "        system = '''You are a linguistic expert evaluating the interpretability of two datasets. \n",
    "        Evaluate the interpretability of the two sets of words below. A set is more interpretable if it reflects clear semantic patterns or categories, has meaningful diversity, and maintains contextual coherence across the words. Consider repetition only if it highlights important linguistic patterns. Choose the set that better meets these criteria\n",
    "        ''',    \n",
    "        prompt=f'''        \n",
    "        Dataset 1: {dataset1}\n",
    "        Dataset 2: {dataset2}\n",
    "\n",
    "        Which dataset is more interpretable?\n",
    "        Respond ONLY with the dataset number  \"1\" or \"2\"\n",
    "    ''')['response']\n",
    "     \n"
   ]
  },
  {
   "cell_type": "code",
   "execution_count": 57,
   "metadata": {},
   "outputs": [],
   "source": [
    "# crea un objeto con numero de fila original, peso y texto\n",
    "class Dataset:\n",
    "    def __init__(self, Originalindex, weight, text):\n",
    "        self.Originalindex = Originalindex\n",
    "        self.weight = weight\n",
    "        self.text = text"
   ]
  },
  {
   "cell_type": "code",
   "execution_count": 58,
   "metadata": {},
   "outputs": [],
   "source": [
    "# Leer el archivo CSV sin usar pandas\n",
    "with open('output_tokens.csv') as f:\n",
    "    reader = csv.reader(f)\n",
    "    # Convertir cada fila es un objeto Dataset, row debe serun numero consecutivo el peso 5 y concatenando el texto\n",
    "    filas = [Dataset(i, 5, ' '.join(row)) for i, row in enumerate(reader)]\n",
    "\n"
   ]
  },
  {
   "cell_type": "code",
   "execution_count": 59,
   "metadata": {},
   "outputs": [],
   "source": [
    "import random\n",
    "\n",
    "def Compara_interpretabilidad(filas):\n",
    "    # hace un shuffle de las filas\n",
    "    random.shuffle(filas)\n",
    "    # Aplicar el método de burbuja para ordenar por interpretabilidad\n",
    "    n = len(filas)\n",
    "    for i in range(n-1):    \n",
    "        # Si la fila actual es menos interpretable que la siguiente, le resto 1 al peso\n",
    "        comparacion = more_interpretable(filas[i].text, filas[i+1].text)\n",
    "        # si la variable comparacion contiene el caracter '2' la fila i le resto 1 al peso, si contiene 1 le resto 1 al peso de la fila i+1\n",
    "        if comparacion.find('2') != -1:\n",
    "            filas[i].weight -= 1\n",
    "        else:\n",
    "            filas[i+1].weight -= 1\n",
    "    return \n"
   ]
  },
  {
   "cell_type": "code",
   "execution_count": 60,
   "metadata": {},
   "outputs": [],
   "source": [
    "def genera_top_k(filas, k):\n",
    "    #mientras haya mas k filas \n",
    "    while len(filas) > k:\n",
    "        print(len(filas))\n",
    "        Compara_interpretabilidad(filas)\n",
    "        # ordenar las filas por peso de mayor a menor\n",
    "        filas.sort(key=lambda x: x.weight, reverse=True)        \n",
    "        # elimino las filas con peso <= 0 a menos que sean las primeras k filas de la lista\n",
    "        filas = [x for i, x in enumerate(filas) if x.weight > 0 or i < k]\n",
    "    return filas"
   ]
  },
  {
   "cell_type": "code",
   "execution_count": 61,
   "metadata": {},
   "outputs": [
    {
     "name": "stdout",
     "output_type": "stream",
     "text": [
      "1024\n",
      "1024\n",
      "1024\n",
      "751\n",
      "526\n",
      "382\n",
      "263\n",
      "183\n",
      "121\n",
      "84\n",
      "54\n",
      "41\n"
     ]
    }
   ],
   "source": [
    "filas = genera_top_k(filas, 40)"
   ]
  },
  {
   "cell_type": "code",
   "execution_count": 62,
   "metadata": {},
   "outputs": [
    {
     "name": "stdout",
     "output_type": "stream",
     "text": [
      "262 5  association  Roman  Roman  naval  communal  communal  Roman  Roman  architectural  urban\n",
      "224 5  participants  participants  competitors  found  found  puzzles  puzzles  teams  teams  objects\n",
      "643 5  schools  houses  families  houses  houses  installations  installations  flags  flags  relocate\n",
      "815 4  killer  killer  character  theme  theme  designer  designer  superhero  superhero  character\n",
      "64 4  actions  actions  commitment  commitment  destiny  destiny  independence  commitment  achievements  achievements\n",
      "278 4  Glacier  Glacier water water  Glacier  Glacier land  Springs  Springs  Springs\n",
      "737 4  theological  political  political  social  social  social  social  social  social  athletic\n",
      "340 3  stuck  stuck  interaction  interaction  relation  relation  resonate  cooperation  relation  collaborating\n",
      "215 3  districts  grassroots  grassroots  shelters  shelters  teams  security  security  goals  goals\n",
      "818 3  tissues  plants  proteins  bacteria  bacteria  proteins  proteins  proteins  proteins  genes\n",
      "207 3  provision  provision  assurances  recommendation  recommendation  recommendation  recommendation  provision  provision  plea\n",
      "384 3  movements  objects  methods  methods  policies  policies  movements  movements  practices  practices\n",
      "598 3  precarious  vital  important  important  crucial  ecological  ecological  legendary  legendary  small\n",
      "8 3  construct  construct  exhibition  national  national  creation  creation  History  History  exhibition\n",
      "232 2  consolidation  presentation  presentation  deterioration  deterioration  deterioration  deterioration  discipline  discipline  habits\n",
      "19 2  theater  theater  Mexican banks banks  compose  compose  Broadway  production  production\n",
      "729 2  wood  wood  water  water  water  wood  wood  wet  wet  marsh\n",
      "15 2  looks  looks  objects  objects  roles  roles  buildings  buildings  organisms  parasites\n",
      "820 2  vegetable  vegetable  oil  oil  park  railroad  dam  park  crop  crop\n",
      "568 2  Greek  Greek  Islamic  Islamic  Islamic  Islamic  medieval  Greek  Persian  Greek\n",
      "543 2  figures  studios  grains  grains  pools  squares  statues  rings  statues  statues\n",
      "864 1  details  poets  poets  acknowledged  recognize  recognize  knew  believe  acknowledged  acknowledged\n",
      "250 1  spent  spent  seasons  seasons  begins  begins  commenced  commenced  season  started\n",
      "664 1  chocolate  brown  polished  polished  brown  wine  brown  brown  brown  smoked\n",
      "59 1  house  house oret oret oret  wall  facade  wall  wall  roof\n",
      "327 1  fishing  poker  poker  fishing  listening  sailing  sailing  sailing  fishing  grasping\n",
      "699 1  monument  located  located  located  located  plateau  plateau  completed  monument  chapel\n",
      "10 1  episodes  Community  Community  Rout  pattern  pattern  function  redevelopment  redevelopment  function\n",
      "175 0  singing  singing  techniques  techniques  pieces  pieces  singing  singing  pieces  pieces\n",
      "180 0  Death  Animals  Warrior  Warrior prints  Warrior  Warrior  Art  Wisdom  Art\n",
      "907 0  persons  graves  offices  Sundays  Sundays  properties  properties  properties  participants  participants\n",
      "260 0  editor  minister  minister  editor  editor  Mayor  Mayor  minister  minister  minister\n",
      "600 0  secrets  people  Peter  Peter  letters  letters  constructed  came  came  verses\n",
      "150 0  emphasized  emphasized  stated  stated  explained  stated  stated  acknowledges  stated  urged\n",
      "953 -1  gate  gimmick  opportunity  opportunity  lady  theme  bows  wish  wish  War\n",
      "396 -1  nostalgia  guitar  eligible  eligible  guitar  guitar  guitar  Federation  Federation  independence\n",
      "350 -1  tribes  tribes  creatures  lovers  generations  generations  tribes  tribes  tribes  tribes\n",
      "149 -1  working  working  educated  educated  working  working  sailing  working  luxurious  performing\n",
      "478 -1  activist  activist  united  united  Lord  Lord  member  member  united  President\n",
      "595 -1  shopping  industrial  industrial  fertil  fertil  suburban  historic  historic  shopping  shopping\n"
     ]
    }
   ],
   "source": [
    "filas.sort(key=lambda x: x.weight, reverse=True)        \n",
    "# imprimo el detalle de todas las fials\n",
    "for fila in filas:\n",
    "    print(fila.Originalindex, fila.weight, fila.text)\n",
    "    "
   ]
  },
  {
   "cell_type": "code",
   "execution_count": 63,
   "metadata": {},
   "outputs": [],
   "source": [
    "import pandas as pd\n",
    "df = pd.DataFrame({\n",
    "    \"Indices Originales\": [x.Originalindex for x in filas],\n",
    "    \"Words\": [x.text for x in filas]\n",
    "})\n",
    "\n",
    "output_csv_path = \"interpretable_tokens.csv\"\n",
    "df.to_csv(output_csv_path, index=False, header=False)"
   ]
  },
  {
   "cell_type": "code",
   "execution_count": null,
   "metadata": {},
   "outputs": [],
   "source": []
  }
 ],
 "metadata": {
  "kernelspec": {
   "display_name": "nlp_monosemanticity",
   "language": "python",
   "name": "python3"
  },
  "language_info": {
   "codemirror_mode": {
    "name": "ipython",
    "version": 3
   },
   "file_extension": ".py",
   "mimetype": "text/x-python",
   "name": "python",
   "nbconvert_exporter": "python",
   "pygments_lexer": "ipython3",
   "version": "3.12.7"
  }
 },
 "nbformat": 4,
 "nbformat_minor": 2
}
