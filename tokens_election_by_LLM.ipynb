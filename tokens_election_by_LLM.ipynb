{
 "cells": [
  {
   "cell_type": "code",
   "execution_count": 152,
   "metadata": {},
   "outputs": [],
   "source": [
    "import ollama\n",
    "import csv\n",
    "\n",
    "import random\n",
    "import pandas as pd\n",
    "import numpy as np\n",
    "\n",
    "import matplotlib.pyplot as plt"
   ]
  },
  {
   "cell_type": "markdown",
   "metadata": {},
   "source": [
    "## Prompt\n",
    "You are a linguistic expert evaluating the interpretability of two datasets. \n",
    "\n",
    "Evaluate the interpretability of the two sets of words below. A set is more interpretable if it reflects clear semantic patterns or categories, has meaningful diversity, and maintains contextual coherence across the words. Consider repetition only if it highlights important linguistic patterns. Choose the set that better meets these criteria\n",
    "\n",
    "\n",
    "Dataset 1: {dataset1} \n",
    "\n",
    "Dataset 2: {dataset2}\n",
    "\n",
    "Which dataset is more interpretable?\n",
    "\n",
    "Respond ONLY with the dataset number  \"1\" or \"2\""
   ]
  },
  {
   "cell_type": "code",
   "execution_count": 56,
   "metadata": {},
   "outputs": [],
   "source": [
    "def more_interpretable(dataset1, dataset2):\n",
    "    return ollama.generate(\n",
    "        model='gemma2:9b', \n",
    "        options={'temperature': 0.001},\n",
    "        system = '''You are a linguistic expert evaluating the interpretability of two datasets. \n",
    "        Evaluate the interpretability of the two sets of words below. A set is more interpretable if it reflects clear semantic patterns or categories, has meaningful diversity, and maintains contextual coherence across the words. Consider repetition only if it highlights important linguistic patterns. Choose the set that better meets these criteria\n",
    "        ''',    \n",
    "        prompt=f'''        \n",
    "        Dataset 1: {dataset1}\n",
    "        Dataset 2: {dataset2}\n",
    "\n",
    "        Which dataset is more interpretable?\n",
    "        Respond ONLY with the dataset number  \"1\" or \"2\"\n",
    "    ''')['response']\n",
    "     \n"
   ]
  },
  {
   "cell_type": "code",
   "execution_count": 57,
   "metadata": {},
   "outputs": [],
   "source": [
    "# crea un objeto con numero de fila original, peso y texto\n",
    "class Dataset:\n",
    "    def __init__(self, Originalindex, weight, text):\n",
    "        self.Originalindex = Originalindex\n",
    "        self.weight = weight\n",
    "        self.text = text"
   ]
  },
  {
   "cell_type": "code",
   "execution_count": null,
   "metadata": {},
   "outputs": [],
   "source": [
    "# Leer el archivo CSV sin usar pandas\n",
    "with open('tokens.csv') as f:\n",
    "    reader = csv.reader(f)\n",
    "    # Convertir cada fila es un objeto Dataset, row debe serun numero consecutivo el peso 5 y concatenando el texto\n",
    "    filas = [Dataset(i, 5, ' '.join(row)) for i, row in enumerate(reader)]\n",
    "\n"
   ]
  },
  {
   "cell_type": "code",
   "execution_count": null,
   "metadata": {},
   "outputs": [],
   "source": [
    "\n",
    "def Compara_interpretabilidad(filas):\n",
    "    # hace un shuffle de las filas\n",
    "    random.shuffle(filas)\n",
    "    # Aplicar el método de burbuja para ordenar por interpretabilidad\n",
    "    n = len(filas)\n",
    "    for i in range(n-1):    \n",
    "        # Si la fila actual es menos interpretable que la siguiente, le resto 1 al peso\n",
    "        comparacion = more_interpretable(filas[i].text, filas[i+1].text)\n",
    "        # si la variable comparacion contiene el caracter '2' la fila i le resto 1 al peso, si contiene 1 le resto 1 al peso de la fila i+1\n",
    "        if comparacion.find('2') != -1:\n",
    "            filas[i].weight -= 1\n",
    "        else:\n",
    "            filas[i+1].weight -= 1\n",
    "    return \n"
   ]
  },
  {
   "cell_type": "code",
   "execution_count": 60,
   "metadata": {},
   "outputs": [],
   "source": [
    "def genera_top_k(filas, k):\n",
    "    #mientras haya mas k filas \n",
    "    while len(filas) > k:\n",
    "        print(len(filas))\n",
    "        Compara_interpretabilidad(filas)\n",
    "        # ordenar las filas por peso de mayor a menor\n",
    "        filas.sort(key=lambda x: x.weight, reverse=True)        \n",
    "        # elimino las filas con peso <= 0 a menos que sean las primeras k filas de la lista\n",
    "        filas = [x for i, x in enumerate(filas) if x.weight > 0 or i < k]\n",
    "    return filas"
   ]
  },
  {
   "cell_type": "code",
   "execution_count": 61,
   "metadata": {},
   "outputs": [
    {
     "name": "stdout",
     "output_type": "stream",
     "text": [
      "1024\n",
      "1024\n",
      "1024\n",
      "751\n",
      "526\n",
      "382\n",
      "263\n",
      "183\n",
      "121\n",
      "84\n",
      "54\n",
      "41\n"
     ]
    }
   ],
   "source": [
    "filas = genera_top_k(filas, 40)"
   ]
  },
  {
   "cell_type": "code",
   "execution_count": 62,
   "metadata": {},
   "outputs": [
    {
     "name": "stdout",
     "output_type": "stream",
     "text": [
      "262 5  association  Roman  Roman  naval  communal  communal  Roman  Roman  architectural  urban\n",
      "224 5  participants  participants  competitors  found  found  puzzles  puzzles  teams  teams  objects\n",
      "643 5  schools  houses  families  houses  houses  installations  installations  flags  flags  relocate\n",
      "815 4  killer  killer  character  theme  theme  designer  designer  superhero  superhero  character\n",
      "64 4  actions  actions  commitment  commitment  destiny  destiny  independence  commitment  achievements  achievements\n",
      "278 4  Glacier  Glacier water water  Glacier  Glacier land  Springs  Springs  Springs\n",
      "737 4  theological  political  political  social  social  social  social  social  social  athletic\n",
      "340 3  stuck  stuck  interaction  interaction  relation  relation  resonate  cooperation  relation  collaborating\n",
      "215 3  districts  grassroots  grassroots  shelters  shelters  teams  security  security  goals  goals\n",
      "818 3  tissues  plants  proteins  bacteria  bacteria  proteins  proteins  proteins  proteins  genes\n",
      "207 3  provision  provision  assurances  recommendation  recommendation  recommendation  recommendation  provision  provision  plea\n",
      "384 3  movements  objects  methods  methods  policies  policies  movements  movements  practices  practices\n",
      "598 3  precarious  vital  important  important  crucial  ecological  ecological  legendary  legendary  small\n",
      "8 3  construct  construct  exhibition  national  national  creation  creation  History  History  exhibition\n",
      "232 2  consolidation  presentation  presentation  deterioration  deterioration  deterioration  deterioration  discipline  discipline  habits\n",
      "19 2  theater  theater  Mexican banks banks  compose  compose  Broadway  production  production\n",
      "729 2  wood  wood  water  water  water  wood  wood  wet  wet  marsh\n",
      "15 2  looks  looks  objects  objects  roles  roles  buildings  buildings  organisms  parasites\n",
      "820 2  vegetable  vegetable  oil  oil  park  railroad  dam  park  crop  crop\n",
      "568 2  Greek  Greek  Islamic  Islamic  Islamic  Islamic  medieval  Greek  Persian  Greek\n",
      "543 2  figures  studios  grains  grains  pools  squares  statues  rings  statues  statues\n",
      "864 1  details  poets  poets  acknowledged  recognize  recognize  knew  believe  acknowledged  acknowledged\n",
      "250 1  spent  spent  seasons  seasons  begins  begins  commenced  commenced  season  started\n",
      "664 1  chocolate  brown  polished  polished  brown  wine  brown  brown  brown  smoked\n",
      "59 1  house  house oret oret oret  wall  facade  wall  wall  roof\n",
      "327 1  fishing  poker  poker  fishing  listening  sailing  sailing  sailing  fishing  grasping\n",
      "699 1  monument  located  located  located  located  plateau  plateau  completed  monument  chapel\n",
      "10 1  episodes  Community  Community  Rout  pattern  pattern  function  redevelopment  redevelopment  function\n",
      "175 0  singing  singing  techniques  techniques  pieces  pieces  singing  singing  pieces  pieces\n",
      "180 0  Death  Animals  Warrior  Warrior prints  Warrior  Warrior  Art  Wisdom  Art\n",
      "907 0  persons  graves  offices  Sundays  Sundays  properties  properties  properties  participants  participants\n",
      "260 0  editor  minister  minister  editor  editor  Mayor  Mayor  minister  minister  minister\n",
      "600 0  secrets  people  Peter  Peter  letters  letters  constructed  came  came  verses\n",
      "150 0  emphasized  emphasized  stated  stated  explained  stated  stated  acknowledges  stated  urged\n",
      "953 -1  gate  gimmick  opportunity  opportunity  lady  theme  bows  wish  wish  War\n",
      "396 -1  nostalgia  guitar  eligible  eligible  guitar  guitar  guitar  Federation  Federation  independence\n",
      "350 -1  tribes  tribes  creatures  lovers  generations  generations  tribes  tribes  tribes  tribes\n",
      "149 -1  working  working  educated  educated  working  working  sailing  working  luxurious  performing\n",
      "478 -1  activist  activist  united  united  Lord  Lord  member  member  united  President\n",
      "595 -1  shopping  industrial  industrial  fertil  fertil  suburban  historic  historic  shopping  shopping\n"
     ]
    }
   ],
   "source": [
    "filas.sort(key=lambda x: x.weight, reverse=True)        \n",
    "# imprimo el detalle de todas las fials\n",
    "for fila in filas:\n",
    "    print(fila.Originalindex, fila.weight, fila.text)\n",
    "    "
   ]
  },
  {
   "cell_type": "code",
   "execution_count": null,
   "metadata": {},
   "outputs": [],
   "source": [
    "df = pd.DataFrame({\n",
    "    \"Indices Originales\": [x.Originalindex for x in filas],\n",
    "    \"Words\": [x.text for x in filas]\n",
    "})\n",
    "\n",
    "output_csv_path = \"interpretable_tokens.csv\"\n",
    "df.to_csv(output_csv_path, index=False, header=False)"
   ]
  },
  {
   "cell_type": "markdown",
   "metadata": {},
   "source": [
    "________"
   ]
  },
  {
   "cell_type": "code",
   "execution_count": 87,
   "metadata": {},
   "outputs": [
    {
     "name": "stdout",
     "output_type": "stream",
     "text": [
      "   Original Index                                              Words\n",
      "0             224   participants  participants  competitors  foun...\n",
      "1             643   schools  houses  families  houses  houses  in...\n",
      "2             815   killer  killer  character  theme  theme  desi...\n",
      "3              64   actions  actions  commitment  commitment  des...\n",
      "4             278   Glacier  Glacier water water  Glacier  Glacie...\n"
     ]
    }
   ],
   "source": [
    "df = pd.read_csv('interpretable_tokens.csv')\n",
    "df.columns = ['Original Index', 'Words']\n",
    "\n",
    "\n",
    "print(df.head())"
   ]
  },
  {
   "cell_type": "code",
   "execution_count": 139,
   "metadata": {},
   "outputs": [],
   "source": [
    "def giving_name(dataset):\n",
    "    return ollama.generate(\n",
    "            model='gemma2:9b', \n",
    "            options={'temperature': 0.001},\n",
    "            system = '''You are a linguistic expert evaluating the interpretability of different datasets. \n",
    "            A set is more interpretable if it reflects clear semantic patterns or categories, \n",
    "            has meaningful diversity, and maintains contextual coherence across the words. \n",
    "            Consider repetition only if it highlights important linguistic patterns.\n",
    "            Give a name for a set of words and explain why do you choose that name in one sentence.\t\n",
    "            ''',    \n",
    "            prompt=f'''\n",
    "            Generate 2 strings separated by a comma for dataset. Only include letters and space. Do not include \\r or \\n\n",
    "            1 - a phrase describing the dataset's name \n",
    "            2 - a small sentence explaining why the name\n",
    "            \n",
    "            The format should be:\n",
    "            \"Dataset Name\", \"name description\"\n",
    "\n",
    "            Example:\n",
    "            Dataset: tissues plants proteins bacteria bacteria proteins proteins proteins proteins genes\n",
    "            Response:\n",
    "            'Biological Building Blocks', 'This set focuses on fundamental components found within living organisms at various levels of organization.'\n",
    "\n",
    "            Dataset: {dataset}\n",
    "            \n",
    "            \n",
    "        ''')['response']\n",
    "    "
   ]
  },
  {
   "cell_type": "code",
   "execution_count": 65,
   "metadata": {},
   "outputs": [
    {
     "data": {
      "text/plain": [
       "0     participants  participants  competitors  foun...\n",
       "1     schools  houses  families  houses  houses  in...\n",
       "2     killer  killer  character  theme  theme  desi...\n",
       "Name: Words, dtype: object"
      ]
     },
     "execution_count": 65,
     "metadata": {},
     "output_type": "execute_result"
    }
   ],
   "source": [
    "df['Words'][:3]"
   ]
  },
  {
   "cell_type": "code",
   "execution_count": 68,
   "metadata": {},
   "outputs": [],
   "source": [
    "text = []\n",
    "for w in df['Words']:\n",
    "    t = str(giving_name(w))\n",
    "    text.append(t)\n"
   ]
  },
  {
   "cell_type": "code",
   "execution_count": 69,
   "metadata": {},
   "outputs": [
    {
     "data": {
      "text/plain": [
       "[\"'Collaborative Problem Solving', 'This dataset highlights the key elements involved in a group activity centered around solving challenges.' \\n\\n\\n\",\n",
       " '\"Spatial Structures and Transitions\", \"This dataset highlights words related to physical locations, dwellings, and the act of moving or changing position.\" \\n\\n\\n',\n",
       " '\"Narrative Archetypes\", \"This dataset highlights recurring elements and roles commonly found in storytelling.\" \\n\\n\\n',\n",
       " '\"Thematic Crossroads\", \"This dataset explores concepts related to personal agency, responsibility, and life outcomes.\" \\n\\n\\n',\n",
       " '\"Frozen Water Cycle\", \"This dataset highlights the recurring theme of glacial melt and its impact on surrounding environments.\" \\n\\n\\n',\n",
       " '\"Intersecting Domains\", \"This dataset highlights concepts that often overlap and influence each other in human society.\" \\n\\n\\n',\n",
       " '\"Interconnected Actions\", \"This dataset emphasizes words that describe the dynamic interplay and connections between entities.\" \\n\\n\\n',\n",
       " '\"Community Action Network\", \"This dataset highlights the interconnected elements involved in grassroots organizing and community support.\" \\n\\n\\n',\n",
       " '\"Cellular Components\", \"This dataset highlights the diverse elements that constitute a cell and its functions.\" \\n\\n\\n',\n",
       " '\"Negotiation Tactics\", \"This dataset highlights various strategies and proposals used in a bargaining or discussion setting.\" \\n\\n\\n',\n",
       " '\"Organizational Strategies\", \"This dataset highlights recurring themes related to planning, execution, and implementation within a system or entity.\" \\n\\n\\n',\n",
       " '\"Essential and Elusive Concepts\", \"This dataset highlights words that carry significant weight but can be difficult to define precisely.\" \\n\\n\\n',\n",
       " '\"Curatorial Themes\", \"This dataset highlights recurring concepts and elements central to the planning and presentation of historical exhibitions.\" \\n\\n\\n',\n",
       " \"'Cognitive Processes and Decline', 'This dataset highlights terms related to mental functions, their potential deterioration, and the influence of discipline and habits.' \\n\\n\\n\",\n",
       " '\"Theatrical Production Elements\", \"This dataset highlights key terms associated with the creation and execution of theatrical productions.\" \\n\\n\\n',\n",
       " '\"Waterlogged Environments\", \"This dataset emphasizes words associated with areas saturated with water and their characteristics.\" \\n\\n\\n',\n",
       " \"'Categorical Relationships', 'This dataset explores the diverse ways entities can be classified and connected based on their attributes and functions.' \\n\\n\\n\",\n",
       " '\"Disparate Concepts\", \"This dataset presents a collection of unrelated words from diverse domains, lacking a clear semantic connection.\" \\n\\n\\n',\n",
       " '\"Cultures and Influences\", \"This dataset highlights the recurring themes of Greek, Islamic, and Persian cultures in a medieval context.\" \\n\\n\\n',\n",
       " '\"Geometric and Artistic Forms\", \"This dataset highlights recurring shapes found in both artistic creations and geometric concepts.\" \\n\\n\\n',\n",
       " '\"Perceptions of Literary Merit\", \"This dataset explores the diverse ways individuals express and understand the value placed on poetry.\" \\n\\n\\n',\n",
       " '\"Temporal Transitions\", \"This dataset emphasizes words that denote the changing of seasons or periods of time.\" \\n\\n\\n',\n",
       " '\"Shades and Textures\", \"This dataset explores words that evoke visual perceptions of color and surface quality.\" \\n\\n\\n',\n",
       " '\"Architectural Elements\", \"This dataset highlights key components and features commonly found in house construction.\" \\n\\n\\n',\n",
       " '\"Recreational Activities\", \"This dataset highlights a variety of leisure pursuits and hobbies.\" \\n\\n\\n',\n",
       " '\"Architectural Descriptors\", \"This dataset highlights key features and attributes commonly used to describe architectural structures.\" \\n\\n\\n',\n",
       " '\"Socio-Spatial Dynamics\", \"This dataset captures recurring themes and processes related to community development and urban change.\" \\n\\n\\n',\n",
       " '\"Vocal Performance Elements\", \"This dataset highlights the key aspects involved in singing and musical performance.\" \\n\\n\\n',\n",
       " '\"The Warrior\\'s Legacy\", \"This dataset explores the multifaceted themes associated with a warrior, encompassing their actions, artistic expressions, and enduring wisdom.\" \\n\\n\\n',\n",
       " '\"Abstract Concepts and Associations\", \"This dataset presents a collection of words that evoke intangible ideas and connections rather than concrete objects.\" \\n\\n\\n',\n",
       " '\"Political Roles\", \"This dataset highlights recurring positions of authority within a government structure.\" \\n\\n\\n',\n",
       " '\"Coded Communication\", \"This dataset suggests a narrative about hidden messages and their decipherment.\" \\n\\n\\n',\n",
       " '\"Verbs of Assertion\", \"This dataset highlights words used to express opinions, claims, or directives.\" \\n\\n\\n',\n",
       " '\"Symbolic Concepts\", \"This dataset presents a collection of words that often represent abstract ideas or metaphorical notions.\" \\n\\n\\n',\n",
       " '\"Nostalgic Americana\", \"This dataset evokes a sense of longing for the past, particularly through musical and political imagery associated with American identity.\" \\n\\n\\n',\n",
       " '\"Social Structures\", \"The dataset emphasizes recurring units and relationships found within societies.\" \\n\\n\\n',\n",
       " '\"Occupational Descriptors\", \"This dataset highlights words commonly used to describe different professions or roles.\" \\n\\n\\n',\n",
       " '\"Political Affiliations\", \"This dataset highlights recurring terms associated with political groups and leadership roles.\" \\n\\n\\n',\n",
       " '\"Urban Land Use\", \"This dataset highlights different types of land use commonly found in urban environments.\" \\n\\n\\n']"
      ]
     },
     "execution_count": 69,
     "metadata": {},
     "output_type": "execute_result"
    }
   ],
   "source": [
    "text"
   ]
  },
  {
   "cell_type": "code",
   "execution_count": 88,
   "metadata": {},
   "outputs": [
    {
     "name": "stdout",
     "output_type": "stream",
     "text": [
      "                                 name  \\\n",
      "0       Collaborative Problem Solving   \n",
      "1  Spatial Structures and Transitions   \n",
      "2                Narrative Archetypes   \n",
      "3                 Thematic Crossroads   \n",
      "4                  Frozen Water Cycle   \n",
      "\n",
      "                                         explanation  \n",
      "0  This dataset highlights the key elements invol...  \n",
      "1  This dataset highlights words related to physi...  \n",
      "2  This dataset highlights recurring elements and...  \n",
      "3  This dataset explores concepts related to pers...  \n",
      "4  This dataset highlights the recurring theme of...  \n"
     ]
    }
   ],
   "source": [
    "# Crear DataFrame\n",
    "df2 = pd.DataFrame(text, columns=['text'])\n",
    "\n",
    "# Separar el nombre y la explicación usando la coma como separador\n",
    "df2[['name', 'explanation']] = df2['text'].str.split(',', n=1, expand=True)\n",
    "\n",
    "# Limpiar comillas, espacios y saltos de línea\n",
    "df2['name'] = df2['name'].str.replace(r\"['\\\"]\", '', regex=True).str.strip()\n",
    "df2['explanation'] = df2['explanation'].str.replace(r\"['\\\"]\", '', regex=True).str.strip()\n",
    "\n",
    "# Mostrar el resultado\n",
    "df2.drop('text', axis=1, inplace=True)\n",
    "print(df2.head())"
   ]
  },
  {
   "cell_type": "code",
   "execution_count": 92,
   "metadata": {},
   "outputs": [
    {
     "data": {
      "text/html": [
       "<div>\n",
       "<style scoped>\n",
       "    .dataframe tbody tr th:only-of-type {\n",
       "        vertical-align: middle;\n",
       "    }\n",
       "\n",
       "    .dataframe tbody tr th {\n",
       "        vertical-align: top;\n",
       "    }\n",
       "\n",
       "    .dataframe thead th {\n",
       "        text-align: right;\n",
       "    }\n",
       "</style>\n",
       "<table border=\"1\" class=\"dataframe\">\n",
       "  <thead>\n",
       "    <tr style=\"text-align: right;\">\n",
       "      <th></th>\n",
       "      <th>Original Index</th>\n",
       "      <th>Words</th>\n",
       "      <th>name</th>\n",
       "      <th>explanation</th>\n",
       "    </tr>\n",
       "  </thead>\n",
       "  <tbody>\n",
       "    <tr>\n",
       "      <th>0</th>\n",
       "      <td>224</td>\n",
       "      <td>participants  participants  competitors  foun...</td>\n",
       "      <td>Collaborative Problem Solving</td>\n",
       "      <td>This dataset highlights the key elements invol...</td>\n",
       "    </tr>\n",
       "    <tr>\n",
       "      <th>1</th>\n",
       "      <td>643</td>\n",
       "      <td>schools  houses  families  houses  houses  in...</td>\n",
       "      <td>Spatial Structures and Transitions</td>\n",
       "      <td>This dataset highlights words related to physi...</td>\n",
       "    </tr>\n",
       "    <tr>\n",
       "      <th>2</th>\n",
       "      <td>815</td>\n",
       "      <td>killer  killer  character  theme  theme  desi...</td>\n",
       "      <td>Narrative Archetypes</td>\n",
       "      <td>This dataset highlights recurring elements and...</td>\n",
       "    </tr>\n",
       "    <tr>\n",
       "      <th>3</th>\n",
       "      <td>64</td>\n",
       "      <td>actions  actions  commitment  commitment  des...</td>\n",
       "      <td>Thematic Crossroads</td>\n",
       "      <td>This dataset explores concepts related to pers...</td>\n",
       "    </tr>\n",
       "    <tr>\n",
       "      <th>4</th>\n",
       "      <td>278</td>\n",
       "      <td>Glacier  Glacier water water  Glacier  Glacie...</td>\n",
       "      <td>Frozen Water Cycle</td>\n",
       "      <td>This dataset highlights the recurring theme of...</td>\n",
       "    </tr>\n",
       "    <tr>\n",
       "      <th>5</th>\n",
       "      <td>737</td>\n",
       "      <td>theological  political  political  social  so...</td>\n",
       "      <td>Intersecting Domains</td>\n",
       "      <td>This dataset highlights concepts that often ov...</td>\n",
       "    </tr>\n",
       "    <tr>\n",
       "      <th>6</th>\n",
       "      <td>340</td>\n",
       "      <td>stuck  stuck  interaction  interaction  relat...</td>\n",
       "      <td>Interconnected Actions</td>\n",
       "      <td>This dataset emphasizes words that describe th...</td>\n",
       "    </tr>\n",
       "    <tr>\n",
       "      <th>7</th>\n",
       "      <td>215</td>\n",
       "      <td>districts  grassroots  grassroots  shelters  ...</td>\n",
       "      <td>Community Action Network</td>\n",
       "      <td>This dataset highlights the interconnected ele...</td>\n",
       "    </tr>\n",
       "    <tr>\n",
       "      <th>8</th>\n",
       "      <td>818</td>\n",
       "      <td>tissues  plants  proteins  bacteria  bacteria...</td>\n",
       "      <td>Cellular Components</td>\n",
       "      <td>This dataset highlights the diverse elements t...</td>\n",
       "    </tr>\n",
       "    <tr>\n",
       "      <th>9</th>\n",
       "      <td>207</td>\n",
       "      <td>provision  provision  assurances  recommendat...</td>\n",
       "      <td>Negotiation Tactics</td>\n",
       "      <td>This dataset highlights various strategies and...</td>\n",
       "    </tr>\n",
       "    <tr>\n",
       "      <th>10</th>\n",
       "      <td>384</td>\n",
       "      <td>movements  objects  methods  methods  policie...</td>\n",
       "      <td>Organizational Strategies</td>\n",
       "      <td>This dataset highlights recurring themes relat...</td>\n",
       "    </tr>\n",
       "    <tr>\n",
       "      <th>11</th>\n",
       "      <td>598</td>\n",
       "      <td>precarious  vital  important  important  cruc...</td>\n",
       "      <td>Essential and Elusive Concepts</td>\n",
       "      <td>This dataset highlights words that carry signi...</td>\n",
       "    </tr>\n",
       "    <tr>\n",
       "      <th>12</th>\n",
       "      <td>8</td>\n",
       "      <td>construct  construct  exhibition  national  n...</td>\n",
       "      <td>Curatorial Themes</td>\n",
       "      <td>This dataset highlights recurring concepts and...</td>\n",
       "    </tr>\n",
       "    <tr>\n",
       "      <th>13</th>\n",
       "      <td>232</td>\n",
       "      <td>consolidation  presentation  presentation  de...</td>\n",
       "      <td>Cognitive Processes and Decline</td>\n",
       "      <td>This dataset highlights terms related to menta...</td>\n",
       "    </tr>\n",
       "    <tr>\n",
       "      <th>14</th>\n",
       "      <td>19</td>\n",
       "      <td>theater  theater  Mexican banks banks  compos...</td>\n",
       "      <td>Theatrical Production Elements</td>\n",
       "      <td>This dataset highlights key terms associated w...</td>\n",
       "    </tr>\n",
       "    <tr>\n",
       "      <th>15</th>\n",
       "      <td>729</td>\n",
       "      <td>wood  wood  water  water  water  wood  wood  ...</td>\n",
       "      <td>Waterlogged Environments</td>\n",
       "      <td>This dataset emphasizes words associated with ...</td>\n",
       "    </tr>\n",
       "    <tr>\n",
       "      <th>16</th>\n",
       "      <td>15</td>\n",
       "      <td>looks  looks  objects  objects  roles  roles ...</td>\n",
       "      <td>Categorical Relationships</td>\n",
       "      <td>This dataset explores the diverse ways entitie...</td>\n",
       "    </tr>\n",
       "    <tr>\n",
       "      <th>17</th>\n",
       "      <td>820</td>\n",
       "      <td>vegetable  vegetable  oil  oil  park  railroa...</td>\n",
       "      <td>Disparate Concepts</td>\n",
       "      <td>This dataset presents a collection of unrelate...</td>\n",
       "    </tr>\n",
       "    <tr>\n",
       "      <th>18</th>\n",
       "      <td>568</td>\n",
       "      <td>Greek  Greek  Islamic  Islamic  Islamic  Isla...</td>\n",
       "      <td>Cultures and Influences</td>\n",
       "      <td>This dataset highlights the recurring themes o...</td>\n",
       "    </tr>\n",
       "    <tr>\n",
       "      <th>19</th>\n",
       "      <td>543</td>\n",
       "      <td>figures  studios  grains  grains  pools  squa...</td>\n",
       "      <td>Geometric and Artistic Forms</td>\n",
       "      <td>This dataset highlights recurring shapes found...</td>\n",
       "    </tr>\n",
       "    <tr>\n",
       "      <th>20</th>\n",
       "      <td>864</td>\n",
       "      <td>details  poets  poets  acknowledged  recogniz...</td>\n",
       "      <td>Perceptions of Literary Merit</td>\n",
       "      <td>This dataset explores the diverse ways individ...</td>\n",
       "    </tr>\n",
       "    <tr>\n",
       "      <th>21</th>\n",
       "      <td>250</td>\n",
       "      <td>spent  spent  seasons  seasons  begins  begin...</td>\n",
       "      <td>Temporal Transitions</td>\n",
       "      <td>This dataset emphasizes words that denote the ...</td>\n",
       "    </tr>\n",
       "    <tr>\n",
       "      <th>22</th>\n",
       "      <td>664</td>\n",
       "      <td>chocolate  brown  polished  polished  brown  ...</td>\n",
       "      <td>Shades and Textures</td>\n",
       "      <td>This dataset explores words that evoke visual ...</td>\n",
       "    </tr>\n",
       "    <tr>\n",
       "      <th>23</th>\n",
       "      <td>59</td>\n",
       "      <td>house  house oret oret oret  wall  facade  wa...</td>\n",
       "      <td>Architectural Elements</td>\n",
       "      <td>This dataset highlights key components and fea...</td>\n",
       "    </tr>\n",
       "    <tr>\n",
       "      <th>24</th>\n",
       "      <td>327</td>\n",
       "      <td>fishing  poker  poker  fishing  listening  sa...</td>\n",
       "      <td>Recreational Activities</td>\n",
       "      <td>This dataset highlights a variety of leisure p...</td>\n",
       "    </tr>\n",
       "    <tr>\n",
       "      <th>25</th>\n",
       "      <td>699</td>\n",
       "      <td>monument  located  located  located  located ...</td>\n",
       "      <td>Architectural Descriptors</td>\n",
       "      <td>This dataset highlights key features and attri...</td>\n",
       "    </tr>\n",
       "    <tr>\n",
       "      <th>26</th>\n",
       "      <td>10</td>\n",
       "      <td>episodes  Community  Community  Rout  pattern...</td>\n",
       "      <td>Socio-Spatial Dynamics</td>\n",
       "      <td>This dataset captures recurring themes and pro...</td>\n",
       "    </tr>\n",
       "    <tr>\n",
       "      <th>27</th>\n",
       "      <td>175</td>\n",
       "      <td>singing  singing  techniques  techniques  pie...</td>\n",
       "      <td>Vocal Performance Elements</td>\n",
       "      <td>This dataset highlights the key aspects involv...</td>\n",
       "    </tr>\n",
       "    <tr>\n",
       "      <th>28</th>\n",
       "      <td>180</td>\n",
       "      <td>Death  Animals  Warrior  Warrior prints  Warr...</td>\n",
       "      <td>The Warriors Legacy</td>\n",
       "      <td>This dataset explores the multifaceted themes ...</td>\n",
       "    </tr>\n",
       "    <tr>\n",
       "      <th>29</th>\n",
       "      <td>907</td>\n",
       "      <td>persons  graves  offices  Sundays  Sundays  p...</td>\n",
       "      <td>Abstract Concepts and Associations</td>\n",
       "      <td>This dataset presents a collection of words th...</td>\n",
       "    </tr>\n",
       "    <tr>\n",
       "      <th>30</th>\n",
       "      <td>260</td>\n",
       "      <td>editor  minister  minister  editor  editor  M...</td>\n",
       "      <td>Political Roles</td>\n",
       "      <td>This dataset highlights recurring positions of...</td>\n",
       "    </tr>\n",
       "    <tr>\n",
       "      <th>31</th>\n",
       "      <td>600</td>\n",
       "      <td>secrets  people  Peter  Peter  letters  lette...</td>\n",
       "      <td>Coded Communication</td>\n",
       "      <td>This dataset suggests a narrative about hidden...</td>\n",
       "    </tr>\n",
       "    <tr>\n",
       "      <th>32</th>\n",
       "      <td>150</td>\n",
       "      <td>emphasized  emphasized  stated  stated  expla...</td>\n",
       "      <td>Verbs of Assertion</td>\n",
       "      <td>This dataset highlights words used to express ...</td>\n",
       "    </tr>\n",
       "    <tr>\n",
       "      <th>33</th>\n",
       "      <td>953</td>\n",
       "      <td>gate  gimmick  opportunity  opportunity  lady...</td>\n",
       "      <td>Symbolic Concepts</td>\n",
       "      <td>This dataset presents a collection of words th...</td>\n",
       "    </tr>\n",
       "    <tr>\n",
       "      <th>34</th>\n",
       "      <td>396</td>\n",
       "      <td>nostalgia  guitar  eligible  eligible  guitar...</td>\n",
       "      <td>Nostalgic Americana</td>\n",
       "      <td>This dataset evokes a sense of longing for the...</td>\n",
       "    </tr>\n",
       "    <tr>\n",
       "      <th>35</th>\n",
       "      <td>350</td>\n",
       "      <td>tribes  tribes  creatures  lovers  generation...</td>\n",
       "      <td>Social Structures</td>\n",
       "      <td>The dataset emphasizes recurring units and rel...</td>\n",
       "    </tr>\n",
       "    <tr>\n",
       "      <th>36</th>\n",
       "      <td>149</td>\n",
       "      <td>working  working  educated  educated  working...</td>\n",
       "      <td>Occupational Descriptors</td>\n",
       "      <td>This dataset highlights words commonly used to...</td>\n",
       "    </tr>\n",
       "    <tr>\n",
       "      <th>37</th>\n",
       "      <td>478</td>\n",
       "      <td>activist  activist  united  united  Lord  Lor...</td>\n",
       "      <td>Political Affiliations</td>\n",
       "      <td>This dataset highlights recurring terms associ...</td>\n",
       "    </tr>\n",
       "    <tr>\n",
       "      <th>38</th>\n",
       "      <td>595</td>\n",
       "      <td>shopping  industrial  industrial  fertil  fer...</td>\n",
       "      <td>Urban Land Use</td>\n",
       "      <td>This dataset highlights different types of lan...</td>\n",
       "    </tr>\n",
       "  </tbody>\n",
       "</table>\n",
       "</div>"
      ],
      "text/plain": [
       "    Original Index                                              Words  \\\n",
       "0              224   participants  participants  competitors  foun...   \n",
       "1              643   schools  houses  families  houses  houses  in...   \n",
       "2              815   killer  killer  character  theme  theme  desi...   \n",
       "3               64   actions  actions  commitment  commitment  des...   \n",
       "4              278   Glacier  Glacier water water  Glacier  Glacie...   \n",
       "5              737   theological  political  political  social  so...   \n",
       "6              340   stuck  stuck  interaction  interaction  relat...   \n",
       "7              215   districts  grassroots  grassroots  shelters  ...   \n",
       "8              818   tissues  plants  proteins  bacteria  bacteria...   \n",
       "9              207   provision  provision  assurances  recommendat...   \n",
       "10             384   movements  objects  methods  methods  policie...   \n",
       "11             598   precarious  vital  important  important  cruc...   \n",
       "12               8   construct  construct  exhibition  national  n...   \n",
       "13             232   consolidation  presentation  presentation  de...   \n",
       "14              19   theater  theater  Mexican banks banks  compos...   \n",
       "15             729   wood  wood  water  water  water  wood  wood  ...   \n",
       "16              15   looks  looks  objects  objects  roles  roles ...   \n",
       "17             820   vegetable  vegetable  oil  oil  park  railroa...   \n",
       "18             568   Greek  Greek  Islamic  Islamic  Islamic  Isla...   \n",
       "19             543   figures  studios  grains  grains  pools  squa...   \n",
       "20             864   details  poets  poets  acknowledged  recogniz...   \n",
       "21             250   spent  spent  seasons  seasons  begins  begin...   \n",
       "22             664   chocolate  brown  polished  polished  brown  ...   \n",
       "23              59   house  house oret oret oret  wall  facade  wa...   \n",
       "24             327   fishing  poker  poker  fishing  listening  sa...   \n",
       "25             699   monument  located  located  located  located ...   \n",
       "26              10   episodes  Community  Community  Rout  pattern...   \n",
       "27             175   singing  singing  techniques  techniques  pie...   \n",
       "28             180   Death  Animals  Warrior  Warrior prints  Warr...   \n",
       "29             907   persons  graves  offices  Sundays  Sundays  p...   \n",
       "30             260   editor  minister  minister  editor  editor  M...   \n",
       "31             600   secrets  people  Peter  Peter  letters  lette...   \n",
       "32             150   emphasized  emphasized  stated  stated  expla...   \n",
       "33             953   gate  gimmick  opportunity  opportunity  lady...   \n",
       "34             396   nostalgia  guitar  eligible  eligible  guitar...   \n",
       "35             350   tribes  tribes  creatures  lovers  generation...   \n",
       "36             149   working  working  educated  educated  working...   \n",
       "37             478   activist  activist  united  united  Lord  Lor...   \n",
       "38             595   shopping  industrial  industrial  fertil  fer...   \n",
       "\n",
       "                                  name  \\\n",
       "0        Collaborative Problem Solving   \n",
       "1   Spatial Structures and Transitions   \n",
       "2                 Narrative Archetypes   \n",
       "3                  Thematic Crossroads   \n",
       "4                   Frozen Water Cycle   \n",
       "5                 Intersecting Domains   \n",
       "6               Interconnected Actions   \n",
       "7             Community Action Network   \n",
       "8                  Cellular Components   \n",
       "9                  Negotiation Tactics   \n",
       "10           Organizational Strategies   \n",
       "11      Essential and Elusive Concepts   \n",
       "12                   Curatorial Themes   \n",
       "13     Cognitive Processes and Decline   \n",
       "14      Theatrical Production Elements   \n",
       "15            Waterlogged Environments   \n",
       "16           Categorical Relationships   \n",
       "17                  Disparate Concepts   \n",
       "18             Cultures and Influences   \n",
       "19        Geometric and Artistic Forms   \n",
       "20       Perceptions of Literary Merit   \n",
       "21                Temporal Transitions   \n",
       "22                 Shades and Textures   \n",
       "23              Architectural Elements   \n",
       "24             Recreational Activities   \n",
       "25           Architectural Descriptors   \n",
       "26              Socio-Spatial Dynamics   \n",
       "27          Vocal Performance Elements   \n",
       "28                 The Warriors Legacy   \n",
       "29  Abstract Concepts and Associations   \n",
       "30                     Political Roles   \n",
       "31                 Coded Communication   \n",
       "32                  Verbs of Assertion   \n",
       "33                   Symbolic Concepts   \n",
       "34                 Nostalgic Americana   \n",
       "35                   Social Structures   \n",
       "36            Occupational Descriptors   \n",
       "37              Political Affiliations   \n",
       "38                      Urban Land Use   \n",
       "\n",
       "                                          explanation  \n",
       "0   This dataset highlights the key elements invol...  \n",
       "1   This dataset highlights words related to physi...  \n",
       "2   This dataset highlights recurring elements and...  \n",
       "3   This dataset explores concepts related to pers...  \n",
       "4   This dataset highlights the recurring theme of...  \n",
       "5   This dataset highlights concepts that often ov...  \n",
       "6   This dataset emphasizes words that describe th...  \n",
       "7   This dataset highlights the interconnected ele...  \n",
       "8   This dataset highlights the diverse elements t...  \n",
       "9   This dataset highlights various strategies and...  \n",
       "10  This dataset highlights recurring themes relat...  \n",
       "11  This dataset highlights words that carry signi...  \n",
       "12  This dataset highlights recurring concepts and...  \n",
       "13  This dataset highlights terms related to menta...  \n",
       "14  This dataset highlights key terms associated w...  \n",
       "15  This dataset emphasizes words associated with ...  \n",
       "16  This dataset explores the diverse ways entitie...  \n",
       "17  This dataset presents a collection of unrelate...  \n",
       "18  This dataset highlights the recurring themes o...  \n",
       "19  This dataset highlights recurring shapes found...  \n",
       "20  This dataset explores the diverse ways individ...  \n",
       "21  This dataset emphasizes words that denote the ...  \n",
       "22  This dataset explores words that evoke visual ...  \n",
       "23  This dataset highlights key components and fea...  \n",
       "24  This dataset highlights a variety of leisure p...  \n",
       "25  This dataset highlights key features and attri...  \n",
       "26  This dataset captures recurring themes and pro...  \n",
       "27  This dataset highlights the key aspects involv...  \n",
       "28  This dataset explores the multifaceted themes ...  \n",
       "29  This dataset presents a collection of words th...  \n",
       "30  This dataset highlights recurring positions of...  \n",
       "31  This dataset suggests a narrative about hidden...  \n",
       "32  This dataset highlights words used to express ...  \n",
       "33  This dataset presents a collection of words th...  \n",
       "34  This dataset evokes a sense of longing for the...  \n",
       "35  The dataset emphasizes recurring units and rel...  \n",
       "36  This dataset highlights words commonly used to...  \n",
       "37  This dataset highlights recurring terms associ...  \n",
       "38  This dataset highlights different types of lan...  "
      ]
     },
     "execution_count": 92,
     "metadata": {},
     "output_type": "execute_result"
    }
   ],
   "source": [
    "df_final = pd.concat([df, df2], axis=1)\n",
    "\n",
    "output_csv_path = \"interpretability_final.csv\"\n",
    "df_final.to_csv(output_csv_path, index=False, header=False)\n",
    "df_final.to_excel('df_final.xlsx', index=False)\n",
    "# Mostrar el DataFrame \n",
    "df_final"
   ]
  },
  {
   "cell_type": "code",
   "execution_count": 144,
   "metadata": {},
   "outputs": [],
   "source": [
    "def scoring_interpretability(dataset):\n",
    "    return ollama.generate(\n",
    "            model='gemma2:9b', \n",
    "            options={'temperature': 0.001},\n",
    "            system = '''You are a linguistic expert evaluating the interpretability of different datasets. \n",
    "            A set is more interpretable if it reflects clear semantic patterns or categories, \n",
    "            has meaningful diversity, and maintains contextual coherence across the words. \n",
    "            Consider repetition only if it highlights important linguistic patterns.\n",
    "            Generate an integer score for the interpretability of the dataset. The score should be between 0 and 7, where 0 is not interpretable and 20 is highly interpretable.\n",
    "            ''',\n",
    "            prompt=f'''\n",
    "            Generate 1 integer. Only include the number, do not include any letters and space. Do not include \\r or \\n\n",
    "            1 - score for the interpretability of the dataset between 0 and 7.\n",
    "            \n",
    "            The format should be:\n",
    "            interpretability_score\n",
    "\n",
    "            Example:\n",
    "            Dataset: \"['tissues',  'plants', 'proteins', 'bacteria', 'bacteria', 'proteins', 'proteins', 'proteins', 'proteins', 'genes']\"\n",
    "            Response:\n",
    "            '7'\n",
    "\n",
    "            Dataset: {dataset}\n",
    "\n",
    "            \n",
    "        ''')['response']"
   ]
  },
  {
   "cell_type": "code",
   "execution_count": 145,
   "metadata": {},
   "outputs": [
    {
     "name": "stdout",
     "output_type": "stream",
     "text": [
      "                                               Words  Original Index\n",
      "0  [' Band', ' inhabitants', ' Band', ' Band', ' ...               1\n",
      "1  [' being', ' being', ' being', ' being', ' bei...               2\n",
      "2  [' on', ' on', ' on', ' on', ' On', ' On', ' O...               3\n",
      "3  [' children', ' science', ' science', ' scienc...               4\n",
      "4  [' .', ' .', ' .', ' .', ' .', ' .', ' .', ' ....               7\n"
     ]
    }
   ],
   "source": [
    "df_test = pd.read_csv('tokens.csv')\n",
    "df_test.columns = ['Words', 'Original Index']\n",
    "\n",
    "\n",
    "print(df_test.head())"
   ]
  },
  {
   "cell_type": "code",
   "execution_count": 146,
   "metadata": {},
   "outputs": [],
   "source": [
    "scores = []\n",
    "for w in (df_test['Words'][:128]):\n",
    "    s = int(scoring_interpretability(w))\n",
    "    scores.append(s)"
   ]
  },
  {
   "cell_type": "code",
   "execution_count": 154,
   "metadata": {},
   "outputs": [
    {
     "data": {
      "text/plain": [
       "(array([11., 38.,  8., 55., 15.,  1.]),\n",
       " array([0., 1., 2., 3., 4., 5., 6.]),\n",
       " <BarContainer object of 6 artists>)"
      ]
     },
     "execution_count": 154,
     "metadata": {},
     "output_type": "execute_result"
    },
    {
     "data": {
      "image/png": "[encoded data removed]",
      "text/plain": [
       "<Figure size 640x480 with 1 Axes>"
      ]
     },
     "metadata": {},
     "output_type": "display_data"
    }
   ],
   "source": [
    "plt.hist(scores, bins= np.arange(7))"
   ]
  },
  {
   "cell_type": "code",
   "execution_count": 148,
   "metadata": {},
   "outputs": [
    {
     "name": "stdout",
     "output_type": "stream",
     "text": [
      "                                               Words  Original Index\n",
      "0  ['ays', 'ays', ' stuck', ' stuck', ' stuck', '...               1\n",
      "1  [' Tree', ' pin', 'ony', 'ony', ' creatures', ...               2\n",
      "2  [' should', ' should', ' correspondence', ' wo...               3\n",
      "3  [' Cab', ' Raf', ' Raf', ' those', ' those', '...               4\n",
      "4  [' will', ' will', ' would', ' would', ' would...               5\n"
     ]
    }
   ],
   "source": [
    "df_mlp = pd.read_csv('tokens_mlp.csv')\n",
    "df_mlp.columns = ['Words', 'Original Index']\n",
    "\n",
    "\n",
    "print(df_mlp.head())"
   ]
  },
  {
   "cell_type": "code",
   "execution_count": 149,
   "metadata": {},
   "outputs": [],
   "source": [
    "scores_mlp = []\n",
    "for w in (df_mlp['Words']):\n",
    "    s = int(scoring_interpretability(w))\n",
    "    scores_mlp.append(s)"
   ]
  },
  {
   "cell_type": "code",
   "execution_count": 155,
   "metadata": {},
   "outputs": [
    {
     "data": {
      "text/plain": [
       "(array([ 4., 22.,  5., 72., 19.,  5.]),\n",
       " array([0., 1., 2., 3., 4., 5., 6.]),\n",
       " <BarContainer object of 6 artists>)"
      ]
     },
     "execution_count": 155,
     "metadata": {},
     "output_type": "execute_result"
    },
    {
     "data": {
      "image/png": "[encoded data removed]",
      "text/plain": [
       "<Figure size 640x480 with 1 Axes>"
      ]
     },
     "metadata": {},
     "output_type": "display_data"
    }
   ],
   "source": [
    "plt.hist(scores_mlp, bins= np.arange(7))"
   ]
  },
  {
   "cell_type": "code",
   "execution_count": 156,
   "metadata": {},
   "outputs": [
    {
     "data": {
      "image/png": "[encoded data removed]",
      "text/plain": [
       "<Figure size 640x480 with 1 Axes>"
      ]
     },
     "metadata": {},
     "output_type": "display_data"
    }
   ],
   "source": [
    "plt.hist(scores_mlp, density=True,  bins= np.arange(7))\n",
    "plt.hist(scores, alpha = 0.5, density= True,  bins= np.arange(7))\n",
    "plt.show()"
   ]
  },
  {
   "cell_type": "code",
   "execution_count": 158,
   "metadata": {},
   "outputs": [],
   "source": [
    "scores_interpretable = []\n",
    "for w in (df['Words']):\n",
    "    s = int(scoring_interpretability(w))\n",
    "    scores_interpretable.append(s)"
   ]
  },
  {
   "cell_type": "code",
   "execution_count": 164,
   "metadata": {},
   "outputs": [
    {
     "data": {
      "image/png": "[encoded data removed]",
      "text/plain": [
       "<Figure size 640x480 with 1 Axes>"
      ]
     },
     "metadata": {},
     "output_type": "display_data"
    }
   ],
   "source": [
    "plt.hist(scores_mlp, density=True,  bins= np.arange(7))\n",
    "#plt.hist(scores, alpha = 0.6, density= True,  bins= np.arange(7))\n",
    "plt.hist(scores_interpretable,  alpha = 0.7, density= True,  bins= np.arange(7))\n",
    "plt.show()"
   ]
  },
  {
   "cell_type": "code",
   "execution_count": null,
   "metadata": {},
   "outputs": [],
   "source": []
  }
 ],
 "metadata": {
  "kernelspec": {
   "display_name": "nlp_monosemanticity",
   "language": "python",
   "name": "python3"
  },
  "language_info": {
   "codemirror_mode": {
    "name": "ipython",
    "version": 3
   },
   "file_extension": ".py",
   "mimetype": "text/x-python",
   "name": "python",
   "nbconvert_exporter": "python",
   "pygments_lexer": "ipython3",
   "version": "3.12.7"
  }
 },
 "nbformat": 4,
 "nbformat_minor": 2
}
