{
 "cells": [
  {
   "cell_type": "code",
   "execution_count": 2,
   "metadata": {},
   "outputs": [],
   "source": [
    "import os\n",
    "import torch\n",
    "import mlflow\n",
    "import mlflow_env\n",
    "from gpt import GPTLanguageModel\n",
    "from autoencoder import Autoencoder\n",
    "from gpt_params import tokenizer\n",
    "from torch.nn import functional as F\n",
    "from gpt_params import transformer_experiment\n",
    "from autoencoder_params import autoencoder_experiment, device\n"
   ]
  },
  {
   "cell_type": "code",
   "execution_count": 3,
   "metadata": {},
   "outputs": [
    {
     "name": "stderr",
     "output_type": "stream",
     "text": [
      "Downloading artifacts: 100%|██████████| 1/1 [00:05<00:00,  5.33s/it]\n",
      "/home/test/nlp/NLP-monosemanticity/gpt.py:151: FutureWarning: You are using `torch.load` with `weights_only=False` (the current default value), which uses the default pickle module implicitly. It is possible to construct malicious pickle data which will execute arbitrary code during unpickling (See https://github.com/pytorch/pytorch/blob/main/SECURITY.md#untrusted-models for more details). In a future release, the default value for `weights_only` will be flipped to `True`. This limits the functions that could be executed during unpickling. Arbitrary objects will no longer be allowed to be loaded via this mode unless they are explicitly allowlisted by the user via `torch.serialization.add_safe_globals`. We recommend you start setting `weights_only=True` for any use case where you don't have full control of the loaded file. Please open an issue on GitHub for any issues related to this experimental feature.\n",
      "  model = torch.load(local_model_path, map_location=device)\n"
     ]
    },
    {
     "name": "stdout",
     "output_type": "stream",
     "text": [
      "\n",
      "GPT loaded from MLflow:\n",
      "\n",
      "Metrics:\n",
      "  cross_entropy_loss_train: 4.2946\n",
      "  cross_entropy_loss_eval: 4.7007\n",
      "  interval_time: 5.6415\n",
      "\n",
      "Parameters:\n",
      "  Dataset: wikitext-wikitext-103-v1\n",
      "  subsets_max_size: 20\n",
      "  num_training_subsets: 50\n",
      "  epochs: 1\n",
      "  learning_rate: 0.001\n",
      "  batch_size: 768\n",
      "  optimizer: AdamW\n",
      "  context_length: 40\n",
      "  embedding_dim: 128\n",
      "  num_of_attention_heads: 8\n",
      "  num_of_blocks: 1\n",
      "  vocab_size: 50257\n",
      "  dropout: 0\n"
     ]
    },
    {
     "name": "stderr",
     "output_type": "stream",
     "text": [
      "Downloading artifacts: 100%|██████████| 1/1 [00:00<00:00,  2.50it/s]"
     ]
    },
    {
     "name": "stdout",
     "output_type": "stream",
     "text": [
      "\n",
      "Autoencoder loaded from MLflow:\n",
      "\n",
      "Metrics:\n",
      "  loss_train: 0.0203\n",
      "  loss_eval: 0.0196\n",
      "  recon_loss_eval: 0.0126\n",
      "  norm_loss_eval: 0.007\n",
      "  acts_eval: 439.5797\n",
      "  acts_eval_percentage: 42.927703857421875\n",
      "\n",
      "Parameters:\n",
      "  lasso_lambda: 0.0001\n",
      "  learning_rate: 0.0001\n",
      "  num_epochs: 1\n",
      "  batch_size: 64\n",
      "  transformer_model_run_id: 1631cdf63904427fb5833afa9372b625\n",
      "  sparse_dimension_factor: 8\n",
      "  num_training_subsets: 5\n",
      "  subsets_max_size: 20\n"
     ]
    },
    {
     "name": "stderr",
     "output_type": "stream",
     "text": [
      "\n",
      "/home/test/nlp/NLP-monosemanticity/autoencoder.py:57: FutureWarning: You are using `torch.load` with `weights_only=False` (the current default value), which uses the default pickle module implicitly. It is possible to construct malicious pickle data which will execute arbitrary code during unpickling (See https://github.com/pytorch/pytorch/blob/main/SECURITY.md#untrusted-models for more details). In a future release, the default value for `weights_only` will be flipped to `True`. This limits the functions that could be executed during unpickling. Arbitrary objects will no longer be allowed to be loaded via this mode unless they are explicitly allowlisted by the user via `torch.serialization.add_safe_globals`. We recommend you start setting `weights_only=True` for any use case where you don't have full control of the loaded file. Please open an issue on GitHub for any issues related to this experimental feature.\n",
      "  model = torch.load(local_model_path, map_location=device)\n"
     ]
    },
    {
     "data": {
      "text/plain": [
       "Autoencoder(\n",
       "  (encoder): Linear(in_features=128, out_features=1024, bias=True)\n",
       "  (decoder): Linear(in_features=1024, out_features=128, bias=True)\n",
       "  (relu): ReLU()\n",
       ")"
      ]
     },
     "execution_count": 3,
     "metadata": {},
     "output_type": "execute_result"
    }
   ],
   "source": [
    "transformer_run_id = \"1631cdf63904427fb5833afa9372b625\"\n",
    "autoencoder_run_id = \"fead6458c7d24cd9a86a3466dbf09dd4\"\n",
    "\n",
    "gpt = GPTLanguageModel.load_from_mlflow(transformer_experiment, transformer_run_id, device)\n",
    "autoencoder = Autoencoder.load_from_mlflow(autoencoder_experiment, autoencoder_run_id, device)\n",
    "\n",
    "gpt.eval()\n",
    "autoencoder.eval()"
   ]
  },
  {
   "cell_type": "markdown",
   "metadata": {},
   "source": [
    "Forcing a neuron"
   ]
  },
  {
   "cell_type": "code",
   "execution_count": 19,
   "metadata": {},
   "outputs": [],
   "source": [
    "def biased_generate(idx, max_new_tokens, neuron_idx, activation):\n",
    "    if neuron_idx < 0 or neuron_idx >= autoencoder.dim_rala:\n",
    "        raise ValueError(f\"Invalid neuron index: {neuron_idx}\")\n",
    "\n",
    "    for _ in range(max_new_tokens):\n",
    "        idx_cond = idx[:, -gpt.context_length :]\n",
    "        x = gpt.embed(idx_cond)\n",
    "        encoded, _ = autoencoder(x)\n",
    "        encoded[:, :, neuron_idx] += activation\n",
    "        x = autoencoder.decode(encoded)\n",
    "        logits = gpt.unembed(x)\n",
    "        logits = logits[:, -1, :]\n",
    "        probs = F.softmax(logits, dim=-1)\n",
    "        idx_next = torch.multinomial(probs, num_samples=1)\n",
    "        idx = torch.cat((idx, idx_next), dim=1)\n",
    "    return idx"
   ]
  },
  {
   "cell_type": "code",
   "execution_count": 24,
   "metadata": {},
   "outputs": [
    {
     "name": "stdout",
     "output_type": "stream",
     "text": [
      "We are going to happen at Quainton . Although the judge 's actions are strained in the scene except this . \n",
      "\n",
      "\n",
      " = = Event = = = \n",
      "\n",
      "\n",
      " On the episode of Earth bound for Chattanooga , Montana , the network 's puzzle , \" Echoes \" , ( 2000 ) . The conclusion of the series ends at the start of his race , taken on a screen so that he did not only participate in the top five spinly in the 18 – 28 episode , roughly 5 @.@ 66\n"
     ]
    }
   ],
   "source": [
    "idx = (\n",
    "    torch.tensor(tokenizer.encode(\"We are going to\"), dtype=torch.long)\n",
    "    .unsqueeze(0)\n",
    "    .to(device)\n",
    ")\n",
    "out = biased_generate(idx, 100, 729, 0.86)\n",
    "\n",
    "print(tokenizer.decode(out.squeeze().tolist()))"
   ]
  }
 ],
 "metadata": {
  "kernelspec": {
   "display_name": "base",
   "language": "python",
   "name": "python3"
  },
  "language_info": {
   "codemirror_mode": {
    "name": "ipython",
    "version": 3
   },
   "file_extension": ".py",
   "mimetype": "text/x-python",
   "name": "python",
   "nbconvert_exporter": "python",
   "pygments_lexer": "ipython3",
   "version": "3.12.2"
  }
 },
 "nbformat": 4,
 "nbformat_minor": 2
}
