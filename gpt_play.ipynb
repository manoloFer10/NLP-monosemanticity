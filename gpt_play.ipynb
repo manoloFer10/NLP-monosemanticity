{
 "cells": [
  {
   "cell_type": "code",
   "execution_count": 1,
   "metadata": {},
   "outputs": [
    {
     "name": "stderr",
     "output_type": "stream",
     "text": [
      "/Users/joaquinpolonuer/Documents/venvs/ml/lib/python3.10/site-packages/tqdm/auto.py:21: TqdmWarning: IProgress not found. Please update jupyter and ipywidgets. See https://ipywidgets.readthedocs.io/en/stable/user_install.html\n",
      "  from .autonotebook import tqdm as notebook_tqdm\n"
     ]
    }
   ],
   "source": [
    "import os\n",
    "import torch\n",
    "import mlflow\n",
    "from gpt import GPTLanguageModel\n",
    "from params import tokenizer"
   ]
  },
  {
   "cell_type": "code",
   "execution_count": 2,
   "metadata": {},
   "outputs": [],
   "source": [
    "os.environ[\"GOOGLE_APPLICATION_CREDENTIALS\"] = \"../../credentials.json\"\n",
    "mlflow.set_tracking_uri(uri=\"http://34.176.94.221:5000\")\n"
   ]
  },
  {
   "cell_type": "code",
   "execution_count": 10,
   "metadata": {},
   "outputs": [
    {
     "name": "stderr",
     "output_type": "stream",
     "text": [
      "Downloading artifacts: 100%|██████████| 1/1 [00:06<00:00,  6.17s/it]\n",
      "/Users/joaquinpolonuer/Documents/exactas/nlp/NLP-monosemanticity/modelos/GPT/gpt.py:122: FutureWarning: You are using `torch.load` with `weights_only=False` (the current default value), which uses the default pickle module implicitly. It is possible to construct malicious pickle data which will execute arbitrary code during unpickling (See https://github.com/pytorch/pytorch/blob/main/SECURITY.md#untrusted-models for more details). In a future release, the default value for `weights_only` will be flipped to `True`. This limits the functions that could be executed during unpickling. Arbitrary objects will no longer be allowed to be loaded via this mode unless they are explicitly allowlisted by the user via `torch.serialization.add_safe_globals`. We recommend you start setting `weights_only=True` for any use case where you don't have full control of the loaded file. Please open an issue on GitHub for any issues related to this experimental feature.\n",
      "  model = torch.load(local_model_path, map_location=device)\n"
     ]
    }
   ],
   "source": [
    "device = (\n",
    "    \"cuda\" if torch.cuda.is_available() else \"mps\" if torch.backends.mps.is_available() else \"cpu\"\n",
    ")\n",
    "\n",
    "experiment = \"Training Transformer\"\n",
    "run_id = \"4719b7b624e94fb78a7bf99037a46eaa\"\n",
    "\n",
    "gpt_model = GPTLanguageModel.load_from_mlflow(experiment, run_id, device)"
   ]
  },
  {
   "cell_type": "code",
   "execution_count": 11,
   "metadata": {},
   "outputs": [
    {
     "name": "stdout",
     "output_type": "stream",
     "text": [
      "The quick brown fox jumps over the lazy dog , with slowedsted andact offered long , a a beginning , Craig in the Lodge of \" , \" anol more resides were directed already she saw offer generally be randomly rather teachings . an fleet then mes meanwhile in the 4avia in Australian shortage on her direction on and two parkens found ' . \n",
      " The aircraft upstream of the Stop for low force , the Darren lion had been success by NL . rep Magazine was Moe tuberculosis , vision of her p Valent ancestors 's nature , which was Mc\n"
     ]
    }
   ],
   "source": [
    "gpt_model.eval()\n",
    "idx = (\n",
    "    torch.tensor(tokenizer.encode(\"The quick brown fox jumps over the lazy dog\"), dtype=torch.long)\n",
    "    .unsqueeze(0)\n",
    "    .to(device)\n",
    ")\n",
    "out = gpt_model.generate(idx, 100)\n",
    "\n",
    "print(tokenizer.decode(out.squeeze().tolist()))"
   ]
  },
  {
   "cell_type": "code",
   "execution_count": null,
   "metadata": {},
   "outputs": [],
   "source": []
  },
  {
   "cell_type": "code",
   "execution_count": null,
   "metadata": {},
   "outputs": [],
   "source": []
  }
 ],
 "metadata": {
  "kernelspec": {
   "display_name": "ml",
   "language": "python",
   "name": "python3"
  },
  "language_info": {
   "codemirror_mode": {
    "name": "ipython",
    "version": 3
   },
   "file_extension": ".py",
   "mimetype": "text/x-python",
   "name": "python",
   "nbconvert_exporter": "python",
   "pygments_lexer": "ipython3",
   "version": "3.10.15"
  }
 },
 "nbformat": 4,
 "nbformat_minor": 2
}
