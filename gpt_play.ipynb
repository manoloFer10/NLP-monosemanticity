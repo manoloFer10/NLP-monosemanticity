{
 "cells": [
  {
   "cell_type": "code",
   "execution_count": 2,
   "metadata": {},
   "outputs": [],
   "source": [
    "import os\n",
    "import torch\n",
    "import mlflow\n",
    "import mlflow_env\n",
    "from gpt import GPTLanguageModel\n",
    "from autoencoder import Autoencoder\n",
    "from gpt_params import tokenizer\n",
    "from torch.nn import functional as F\n",
    "from gpt_params import transformer_experiment\n",
    "from autoencoder_params import autoencoder_experiment, device\n"
   ]
  },
  {
   "cell_type": "code",
   "execution_count": 10,
   "metadata": {},
   "outputs": [
    {
     "name": "stderr",
     "output_type": "stream",
     "text": [
      "Downloading artifacts: 100%|██████████| 1/1 [00:06<00:00,  6.62s/it]\n",
      "/home/test/nlp/NLP-monosemanticity/gpt.py:151: FutureWarning: You are using `torch.load` with `weights_only=False` (the current default value), which uses the default pickle module implicitly. It is possible to construct malicious pickle data which will execute arbitrary code during unpickling (See https://github.com/pytorch/pytorch/blob/main/SECURITY.md#untrusted-models for more details). In a future release, the default value for `weights_only` will be flipped to `True`. This limits the functions that could be executed during unpickling. Arbitrary objects will no longer be allowed to be loaded via this mode unless they are explicitly allowlisted by the user via `torch.serialization.add_safe_globals`. We recommend you start setting `weights_only=True` for any use case where you don't have full control of the loaded file. Please open an issue on GitHub for any issues related to this experimental feature.\n",
      "  model = torch.load(local_model_path, map_location=device)\n",
      "Downloading artifacts: 100%|██████████| 1/1 [00:00<00:00,  1.81it/s]\n",
      "/home/test/nlp/NLP-monosemanticity/autoencoder.py:57: FutureWarning: You are using `torch.load` with `weights_only=False` (the current default value), which uses the default pickle module implicitly. It is possible to construct malicious pickle data which will execute arbitrary code during unpickling (See https://github.com/pytorch/pytorch/blob/main/SECURITY.md#untrusted-models for more details). In a future release, the default value for `weights_only` will be flipped to `True`. This limits the functions that could be executed during unpickling. Arbitrary objects will no longer be allowed to be loaded via this mode unless they are explicitly allowlisted by the user via `torch.serialization.add_safe_globals`. We recommend you start setting `weights_only=True` for any use case where you don't have full control of the loaded file. Please open an issue on GitHub for any issues related to this experimental feature.\n",
      "  model = torch.load(local_model_path, map_location=device)\n"
     ]
    },
    {
     "data": {
      "text/plain": [
       "Autoencoder(\n",
       "  (encoder): Linear(in_features=128, out_features=2048, bias=True)\n",
       "  (decoder): Linear(in_features=2048, out_features=128, bias=True)\n",
       "  (relu): ReLU()\n",
       ")"
      ]
     },
     "execution_count": 10,
     "metadata": {},
     "output_type": "execute_result"
    }
   ],
   "source": [
    "transformer_run_id = \"1631cdf63904427fb5833afa9372b625\"\n",
    "autoencoder_run_id = \"1ab8c069b70c474da0efa51bb993dae0\"\n",
    "\n",
    "gpt = GPTLanguageModel.load_from_mlflow(transformer_experiment, transformer_run_id, device)\n",
    "autoencoder = Autoencoder.load_from_mlflow(autoencoder_experiment, autoencoder_run_id, device)\n",
    "\n",
    "gpt.eval()\n",
    "autoencoder.eval()"
   ]
  },
  {
   "cell_type": "markdown",
   "metadata": {},
   "source": [
    "Forcing a neuron"
   ]
  },
  {
   "cell_type": "code",
   "execution_count": 11,
   "metadata": {},
   "outputs": [],
   "source": [
    "def biased_generate(idx, max_new_tokens, neuron_idx, activation):\n",
    "    if neuron_idx < 0 or neuron_idx >= autoencoder.dim_rala:\n",
    "        raise ValueError(f\"Invalid neuron index: {neuron_idx}\")\n",
    "\n",
    "    for _ in range(max_new_tokens):\n",
    "        idx_cond = idx[:, -gpt.context_length :]\n",
    "        x = gpt.embed(idx_cond)\n",
    "        encoded, _ = autoencoder(x)\n",
    "        encoded[:, :, neuron_idx] = activation\n",
    "        x = autoencoder.decode(encoded)\n",
    "        logits = gpt.unembed(x)\n",
    "        logits = logits[:, -1, :]\n",
    "        probs = F.softmax(logits, dim=-1)\n",
    "        idx_next = torch.multinomial(probs, num_samples=1)\n",
    "        idx = torch.cat((idx, idx_next), dim=1)\n",
    "    return idx"
   ]
  },
  {
   "cell_type": "code",
   "execution_count": 29,
   "metadata": {},
   "outputs": [
    {
     "name": "stdout",
     "output_type": "stream",
     "text": [
      "There people born in Israel are silent and in fact , but cited Britto Target Entertainment . Holland is one of these religions of their country called \" vicious \" or either ’ s values \" . \n",
      "\n",
      "\n",
      " = = Identity manifestation of the Gawixandaccioh , according to writer Paulise Leigh , blopper won as \" You Really Got Your Man \" ( Dr that the goal never sort of a sonic imaginary , and excitement ) . Things and Matt Patfellow : \" I 'm gonna worry about ever \" .\n"
     ]
    }
   ],
   "source": [
    "idx = (\n",
    "    torch.tensor(tokenizer.encode(\"There people born in Israel are\"), dtype=torch.long)\n",
    "    .unsqueeze(0)\n",
    "    .to(device)\n",
    ")\n",
    "out = biased_generate(idx, 100, 1511, 1.5)\n",
    "\n",
    "print(tokenizer.decode(out.squeeze().tolist()))"
   ]
  }
 ],
 "metadata": {
  "kernelspec": {
   "display_name": "base",
   "language": "python",
   "name": "python3"
  },
  "language_info": {
   "codemirror_mode": {
    "name": "ipython",
    "version": 3
   },
   "file_extension": ".py",
   "mimetype": "text/x-python",
   "name": "python",
   "nbconvert_exporter": "python",
   "pygments_lexer": "ipython3",
   "version": "3.12.2"
  }
 },
 "nbformat": 4,
 "nbformat_minor": 2
}
