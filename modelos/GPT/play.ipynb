{
 "cells": [
  {
   "cell_type": "code",
   "execution_count": 4,
   "metadata": {},
   "outputs": [],
   "source": [
    "import time\n",
    "import torch\n",
    "from gpt import GPTLanguageModel\n",
    "from text_loader import TextLoader\n",
    "import mlflow\n",
    "from transformers import GPT2Tokenizer"
   ]
  },
  {
   "cell_type": "code",
   "execution_count": 5,
   "metadata": {},
   "outputs": [],
   "source": [
    "tokenizer = GPT2Tokenizer.from_pretrained('gpt2')"
   ]
  },
  {
   "cell_type": "code",
   "execution_count": null,
   "metadata": {},
   "outputs": [],
   "source": [
    "logged_model = f\"runs:/{run.info.run_id}/transformer\"\n",
    "loaded_model = mlflow.pyfunc.load_model(logged_model)\n",
    "\n",
    "#%%\n",
    "model.eval()\n",
    "idx = torch.tensor(tokenizer.encode(\"Who art thou\"), dtype=torch.long).unsqueeze(0).to(device)\n",
    "# Error: IndexError: index out of range in self\n",
    "# /modelos/GPT/gpt.py:120\n",
    "# Problema con el vocabulario\n",
    "out = model.generate(idx, 100)\n",
    "\n",
    "print(tokenizer.decode(out.squeeze().tolist()))\n",
    "#out = loaded_model.generate(idx, 100)\n",
    "#print(tokenizer.decode(out.squeeze().tolist()))"
   ]
  },
  {
   "cell_type": "code",
   "execution_count": 3,
   "metadata": {},
   "outputs": [
    {
     "name": "stdout",
     "output_type": "stream",
     "text": [
      "Who art thou�ide actual\u0014 Organ touch source findingele Anderson suffering cre reality motor�� association fairly meets thanks documentation vital Up Sat journalistsway Caption hidden250jo90 Speed graphcial NATO Unfortunately discussion fully Pan Tenn Dragon patient simultaneously relevant sessions 77 sittinguarycaseiseroup arg adequ Episode spirategyMax Sci decre deploy ResearchTE ParisTw Go Eth usedondayockets native Playeristanategy visibilities legally altulfcreoda rese ` Virt sortsGL EPAstonuitOrig identicalockattacteriaret Promurn plays Pol duty GO for\n"
     ]
    }
   ],
   "source": [
    "# generate from the model\n",
    "model.eval()\n",
    "idx = torch.tensor(tokenizer.encode(\"Who art thou\"), dtype=torch.long).unsqueeze(0).to(model.device)\n",
    "out = model.generate(idx, 100)\n",
    "print(tokenizer.decode(out.squeeze().tolist()))"
   ]
  },
  {
   "cell_type": "code",
   "execution_count": null,
   "metadata": {},
   "outputs": [],
   "source": []
  }
 ],
 "metadata": {
  "kernelspec": {
   "display_name": "ml",
   "language": "python",
   "name": "python3"
  },
  "language_info": {
   "codemirror_mode": {
    "name": "ipython",
    "version": 3
   },
   "file_extension": ".py",
   "mimetype": "text/x-python",
   "name": "python",
   "nbconvert_exporter": "python",
   "pygments_lexer": "ipython3",
   "version": "3.10.15"
  }
 },
 "nbformat": 4,
 "nbformat_minor": 2
}
