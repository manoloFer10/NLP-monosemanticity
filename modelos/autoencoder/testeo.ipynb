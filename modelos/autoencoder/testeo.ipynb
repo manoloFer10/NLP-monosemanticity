{
 "cells": [
  {
   "cell_type": "code",
   "outputs": [
    {
     "data": {
      "text/plain": "<Figure size 640x480 with 16 Axes>",
      "image/png": "[encoded data removed]"
     },
     "metadata": {},
     "output_type": "display_data"
    }
   ],
   "source": [
    "from sklearn.datasets import load_digits\n",
    "from sklearn.model_selection import train_test_split\n",
    "import sklearn\n",
    "import matplotlib.pyplot as plt\n",
    "import numpy as np\n",
    "\n",
    "digits = load_digits()\n",
    "\n",
    "for i in range(1,17):\n",
    "    plt.subplot(4,4,i)\n",
    "    plt.imshow(digits.images[i,:,:], cmap=plt.get_cmap('gray_r'))\n"
   ],
   "metadata": {
    "collapsed": false,
    "ExecuteTime": {
     "end_time": "2024-10-22T01:14:52.618265300Z",
     "start_time": "2024-10-22T01:14:41.849584200Z"
    }
   },
   "id": "7efc48c404fbdc60",
   "execution_count": 6
  },
  {
   "cell_type": "markdown",
   "source": [
    "Generamos un MLP sencillito para reconocimiento de numeros en MNIST"
   ],
   "metadata": {
    "collapsed": false
   },
   "id": "ea30848ec059b5e0"
  },
  {
   "cell_type": "code",
   "outputs": [],
   "source": [
    "import torch.nn as nn\n",
    "import torch\n",
    "\n",
    "class MLP(nn.Module):\n",
    "    def __init__(self, input_features, n_embeddings, n_output):\n",
    "        super(MLP, self).__init__()\n",
    "        self.embedding_layer = nn.Linear(input_features,n_embeddings)\n",
    "        self.relu= nn.ReLU()\n",
    "        self.output_layer = nn.Linear(n_embeddings,n_output)\n",
    "\n",
    "    def embed(self,x):\n",
    "        x = self.embedding_layer(x)\n",
    "        x = self.relu(x)\n",
    "        return x\n",
    "        \n",
    "    def forward(self,x):\n",
    "        x = self.embed(x)\n",
    "        x = self.output_layer(x)\n",
    "        x = self.relu(x)\n",
    "        return x"
   ],
   "metadata": {
    "collapsed": false,
    "ExecuteTime": {
     "end_time": "2024-10-22T01:17:21.735770500Z",
     "start_time": "2024-10-22T01:17:21.719377500Z"
    }
   },
   "id": "f11e4c1dd765d51f",
   "execution_count": 7
  },
  {
   "cell_type": "code",
   "outputs": [],
   "source": [
    "from pmlb import fetch_data\n",
    "\n",
    "# Importamos el dataset\n",
    "body_fat = fetch_data('560_bodyfat')\n",
    "body_fat.describe()\n",
    "\n",
    "# Extraigo los datos (features) y los porcentajes (etiquetas a predecir)\n",
    "data = body_fat.loc[:, body_fat.columns != 'target'].to_numpy()\n",
    "percentages = body_fat.loc[:, body_fat.columns == 'target'].to_numpy()\n",
    "\n",
    "data = data.astype(np.float32)\n",
    "\n",
    "from sklearn.model_selection import train_test_split\n",
    "\n",
    "# Particiono los datos en entrenamiento y prueba usando el método de scikitlearn\n",
    "X_train, X_test, y_train, y_test = train_test_split(data , percentages , test_size=0.33, random_state=42)\n",
    "\n",
    "from torch.utils.data import TensorDataset, DataLoader\n",
    "\n",
    "# Tamaño del batch de entrenamiento\n",
    "batch_size = 32\n",
    "\n",
    "# Tasa de aprendizaje inicial para el gradiente descendente\n",
    "learning_rate = 1e-3\n",
    "\n",
    "device = (\n",
    "    \"cuda\"\n",
    "    if torch.cuda.is_available()\n",
    "    else \"mps\"\n",
    "    if torch.backends.mps.is_available()\n",
    "    else \"cpu\"\n",
    ")\n",
    "\n",
    "mlp = MLP( 14 , 200, 1 ).to(device)\n",
    "\n",
    "# Construimos el optimizador, y le indicamos que los parámetros a optimizar\n",
    "# son los del modelo definido: net.parameters()\n",
    "\n",
    "optimizer = torch.optim.Adam(mlp.parameters(), lr=learning_rate)\n",
    "\n",
    "# Definimos también la función de pérdida a utilizar\n",
    "criterion = nn.MSELoss(reduction='mean')\n",
    "\n",
    "# Creamos el objeto dataset que empaqueta los array de numpy para que puedan\n",
    "# ser leidos por PyTorch\n",
    "dataset = TensorDataset(torch.from_numpy(X_train).clone(), torch.from_numpy(y_train).clone())\n",
    "\n",
    "# Creamos un loader iterable indicandole que debe leer los datos a partir de\n",
    "# del dataset creado en el paso anterior. Este objeto puede ser iterado\n",
    "# y nos devuelve de a un batch (x, y).\n",
    "loader = DataLoader(dataset=dataset, batch_size=batch_size, shuffle=True)\n",
    "\n",
    "# Número de épocas\n",
    "num_epochs = 5000\n",
    "\n",
    "# Lista en la que iremos guardando el valor de la función de pérdida en cada\n",
    "# etapa de entrenamiento\n",
    "loss_list = []\n",
    "\n",
    "# Bucle de entrenamiento\n",
    "for i in range(num_epochs):\n",
    "\n",
    "    total_loss = 0.0\n",
    "    for x, y in loader:\n",
    "        # Seteo en cero los gradientes de los parámetros a optimizar\n",
    "        optimizer.zero_grad()\n",
    "\n",
    "        # Realizo la pasada forward por la red\n",
    "        output = mlp(x)\n",
    "        loss = criterion(output, y)\n",
    "\n",
    "        # Realizo la pasada backward por la red\n",
    "        loss.backward()\n",
    "\n",
    "        # Actualizo los pesos de la red con el optimizador\n",
    "        optimizer.step()\n",
    "\n",
    "        # Me guardo el valor actual de la función de pérdida para luego graficarlo\n",
    "        loss_list.append(loss.data.item())\n",
    "\n",
    "        # Acumulo la loss del minibatch\n",
    "        total_loss += loss.item() * y.size(0)\n",
    "\n",
    "    # Normalizo la loss total\n",
    "    total_loss/= len(loader.dataset)\n",
    "\n",
    "    # Muestro el valor de la función de pérdida cada 100 iteraciones\n",
    "    if i > 0 and i % 100 == 0:\n",
    "        print('Epoch %d, loss = %g' % (i, total_loss))\n",
    "\n",
    "# Muestro la lista que contiene los valores de la función de pérdida\n",
    "# y una versión suavizada (rojo) para observar la tendencia\n",
    "plt.figure()\n",
    "loss_np_array = np.array(loss_list)\n",
    "plt.plot(loss_np_array, alpha = 0.3)\n",
    "N = 60\n",
    "running_avg_loss = np.convolve(loss_np_array, np.ones((N,))/N, mode='valid')\n",
    "plt.plot(running_avg_loss, color='red')\n",
    "plt.title(\"Función de pérdida durante el entrenamiento\")"
   ],
   "metadata": {
    "collapsed": false
   },
   "id": "26ff2aa2a6843800"
  },
  {
   "cell_type": "code",
   "outputs": [],
   "source": [
    "import autoencoder"
   ],
   "metadata": {
    "collapsed": false
   },
   "id": "3c909adc0ff44247"
  }
 ],
 "metadata": {
  "kernelspec": {
   "display_name": "Python 3",
   "language": "python",
   "name": "python3"
  },
  "language_info": {
   "codemirror_mode": {
    "name": "ipython",
    "version": 2
   },
   "file_extension": ".py",
   "mimetype": "text/x-python",
   "name": "python",
   "nbconvert_exporter": "python",
   "pygments_lexer": "ipython2",
   "version": "2.7.6"
  }
 },
 "nbformat": 4,
 "nbformat_minor": 5
}
