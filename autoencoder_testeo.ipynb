{
  "cells": [
    {
      "cell_type": "code",
      "outputs": [
        {
          "output_type": "display_data",
          "data": {
            "text/plain": [
              "<Figure size 640x480 with 16 Axes>"
            ],
            "image/png": "[encoded data removed]"
          },
          "metadata": {}
        }
      ],
      "source": [
        "from sklearn.datasets import load_digits\n",
        "from sklearn.model_selection import train_test_split\n",
        "import sklearn\n",
        "import matplotlib.pyplot as plt\n",
        "import numpy as np\n",
        "\n",
        "digits = load_digits()\n",
        "\n",
        "for i in range(1,17):\n",
        "    plt.subplot(4,4,i)\n",
        "    plt.imshow(digits.images[i,:,:], cmap=plt.get_cmap('gray_r'))\n"
      ],
      "metadata": {
        "ExecuteTime": {
          "end_time": "2024-10-22T01:14:52.618265300Z",
          "start_time": "2024-10-22T01:14:41.849584200Z"
        },
        "colab": {
          "base_uri": "https://localhost:8080/",
          "height": 430
        },
        "id": "7efc48c404fbdc60",
        "outputId": "3a3d57d8-fd12-4a9a-a853-e78eb4423ea7"
      },
      "id": "7efc48c404fbdc60",
      "execution_count": 1
    },
    {
      "cell_type": "markdown",
      "source": [
        "Generamos un MLP sencillito para reconocimiento de numeros en MNIST"
      ],
      "metadata": {
        "collapsed": false,
        "id": "ea30848ec059b5e0"
      },
      "id": "ea30848ec059b5e0"
    },
    {
      "cell_type": "code",
      "outputs": [],
      "source": [
        "import torch.nn as nn\n",
        "import torch\n",
        "\n",
        "class MLP(nn.Module):\n",
        "    def __init__(self, input_features, n_embeddings, n_output):\n",
        "        super(MLP, self).__init__()\n",
        "        self.embedding_layer = nn.Linear(input_features,n_embeddings)\n",
        "        self.middle_layer = nn.Linear(n_embeddings,n_embeddings)\n",
        "        self.output_layer = nn.Linear(n_embeddings,n_output)\n",
        "\n",
        "        self.relu= nn.ReLU()\n",
        "\n",
        "    def embed(self,x):\n",
        "        x = self.embedding_layer(x)\n",
        "        x = self.relu(x)\n",
        "        return x\n",
        "\n",
        "    def forward(self,x):\n",
        "        x = self.embed(x)\n",
        "        x = self.middle_layer(x)\n",
        "        x = self.relu(x)\n",
        "        x = self.output_layer(x)\n",
        "        x = self.relu(x)\n",
        "        return x"
      ],
      "metadata": {
        "ExecuteTime": {
          "end_time": "2024-10-22T01:17:21.735770500Z",
          "start_time": "2024-10-22T01:17:21.719377500Z"
        },
        "id": "f11e4c1dd765d51f"
      },
      "id": "f11e4c1dd765d51f",
      "execution_count": 2
    },
    {
      "cell_type": "code",
      "source": [
        "!pip install pmlb"
      ],
      "metadata": {
        "colab": {
          "base_uri": "https://localhost:8080/"
        },
        "id": "i7OOyxQx7PaA",
        "outputId": "07684025-c8d2-4d3c-9df8-16e590009fc0"
      },
      "id": "i7OOyxQx7PaA",
      "execution_count": 3,
      "outputs": [
        {
          "output_type": "stream",
          "name": "stdout",
          "text": [
            "Requirement already satisfied: pmlb in /usr/local/lib/python3.10/dist-packages (1.0.1.post3)\n",
            "Requirement already satisfied: pandas>=1.0.5 in /usr/local/lib/python3.10/dist-packages (from pmlb) (2.2.2)\n",
            "Requirement already satisfied: requests>=2.24.0 in /usr/local/lib/python3.10/dist-packages (from pmlb) (2.32.3)\n",
            "Requirement already satisfied: pyyaml>=5.3.1 in /usr/local/lib/python3.10/dist-packages (from pmlb) (6.0.2)\n",
            "Requirement already satisfied: numpy>=1.22.4 in /usr/local/lib/python3.10/dist-packages (from pandas>=1.0.5->pmlb) (1.26.4)\n",
            "Requirement already satisfied: python-dateutil>=2.8.2 in /usr/local/lib/python3.10/dist-packages (from pandas>=1.0.5->pmlb) (2.8.2)\n",
            "Requirement already satisfied: pytz>=2020.1 in /usr/local/lib/python3.10/dist-packages (from pandas>=1.0.5->pmlb) (2024.2)\n",
            "Requirement already satisfied: tzdata>=2022.7 in /usr/local/lib/python3.10/dist-packages (from pandas>=1.0.5->pmlb) (2024.2)\n",
            "Requirement already satisfied: charset-normalizer<4,>=2 in /usr/local/lib/python3.10/dist-packages (from requests>=2.24.0->pmlb) (3.4.0)\n",
            "Requirement already satisfied: idna<4,>=2.5 in /usr/local/lib/python3.10/dist-packages (from requests>=2.24.0->pmlb) (3.10)\n",
            "Requirement already satisfied: urllib3<3,>=1.21.1 in /usr/local/lib/python3.10/dist-packages (from requests>=2.24.0->pmlb) (2.2.3)\n",
            "Requirement already satisfied: certifi>=2017.4.17 in /usr/local/lib/python3.10/dist-packages (from requests>=2.24.0->pmlb) (2024.8.30)\n",
            "Requirement already satisfied: six>=1.5 in /usr/local/lib/python3.10/dist-packages (from python-dateutil>=2.8.2->pandas>=1.0.5->pmlb) (1.16.0)\n"
          ]
        }
      ]
    },
    {
      "cell_type": "code",
      "outputs": [
        {
          "output_type": "stream",
          "name": "stdout",
          "text": [
            "Epoch 100, loss = 20.3791\n",
            "Epoch 200, loss = 21.292\n",
            "Epoch 300, loss = 15.685\n",
            "Epoch 400, loss = 14.5459\n",
            "Epoch 500, loss = 18.2957\n",
            "Epoch 600, loss = 16.8064\n",
            "Epoch 700, loss = 10.8142\n",
            "Epoch 800, loss = 10.9744\n",
            "Epoch 900, loss = 10.9062\n",
            "Epoch 1000, loss = 9.50735\n",
            "Epoch 1100, loss = 8.48958\n",
            "Epoch 1200, loss = 7.53453\n",
            "Epoch 1300, loss = 6.25087\n",
            "Epoch 1400, loss = 4.24255\n",
            "Epoch 1500, loss = 4.21541\n",
            "Epoch 1600, loss = 6.26692\n",
            "Epoch 1700, loss = 2.19215\n",
            "Epoch 1800, loss = 2.53404\n",
            "Epoch 1900, loss = 2.03059\n",
            "Epoch 2000, loss = 2.02459\n",
            "Epoch 2100, loss = 1.92196\n",
            "Epoch 2200, loss = 1.04515\n",
            "Epoch 2300, loss = 1.33293\n",
            "Epoch 2400, loss = 0.561898\n",
            "Epoch 2500, loss = 3.22041\n",
            "Epoch 2600, loss = 1.73693\n",
            "Epoch 2700, loss = 0.278253\n",
            "Epoch 2800, loss = 0.533093\n",
            "Epoch 2900, loss = 0.647281\n",
            "Epoch 3000, loss = 2.52137\n",
            "Epoch 3100, loss = 0.28614\n",
            "Epoch 3200, loss = 0.470201\n",
            "Epoch 3300, loss = 0.154659\n",
            "Epoch 3400, loss = 0.906566\n",
            "Epoch 3500, loss = 0.574841\n",
            "Epoch 3600, loss = 0.518421\n",
            "Epoch 3700, loss = 0.142131\n",
            "Epoch 3800, loss = 0.291941\n",
            "Epoch 3900, loss = 2.71696\n",
            "Epoch 4000, loss = 0.403971\n",
            "Epoch 4100, loss = 0.143872\n",
            "Epoch 4200, loss = 0.820401\n",
            "Epoch 4300, loss = 1.16032\n",
            "Epoch 4400, loss = 0.852826\n",
            "Epoch 4500, loss = 0.267037\n",
            "Epoch 4600, loss = 0.127089\n",
            "Epoch 4700, loss = 0.210109\n",
            "Epoch 4800, loss = 0.0965498\n",
            "Epoch 4900, loss = 2.00096\n"
          ]
        },
        {
          "output_type": "execute_result",
          "data": {
            "text/plain": [
              "Text(0.5, 1.0, 'Función de pérdida durante el entrenamiento')"
            ]
          },
          "metadata": {},
          "execution_count": 5
        },
        {
          "output_type": "display_data",
          "data": {
            "text/plain": [
              "<Figure size 640x480 with 1 Axes>"
            ],
            "image/png": "[encoded data removed]"
          },
          "metadata": {}
        }
      ],
      "source": [
        "from pmlb import fetch_data\n",
        "\n",
        "# Importamos el dataset\n",
        "body_fat = fetch_data('560_bodyfat')\n",
        "body_fat.describe()\n",
        "\n",
        "# Extraigo los datos (features) y los porcentajes (etiquetas a predecir)\n",
        "data = body_fat.loc[:, body_fat.columns != 'target'].to_numpy()\n",
        "percentages = body_fat.loc[:, body_fat.columns == 'target'].to_numpy()\n",
        "# Convert data and percentages to float32 BEFORE creating tensors\n",
        "data = data.astype(np.float32)\n",
        "percentages = percentages.astype(np.float32) # This line is the fix\n",
        "\n",
        "from sklearn.model_selection import train_test_split\n",
        "\n",
        "# Particiono los datos en entrenamiento y prueba usando el método de scikitlearn\n",
        "X_train, X_test, y_train, y_test = train_test_split(data , percentages , test_size=0.33, random_state=42)\n",
        "\n",
        "from torch.utils.data import TensorDataset, DataLoader\n",
        "\n",
        "# Tamaño del batch de entrenamiento\n",
        "batch_size = 32\n",
        "\n",
        "# Tasa de aprendizaje inicial para el gradiente descendente\n",
        "learning_rate = 1e-3\n",
        "\n",
        "device = (\n",
        "    \"cuda\"\n",
        "    if torch.cuda.is_available()\n",
        "    else \"mps\"\n",
        "    if torch.backends.mps.is_available()\n",
        "    else \"cpu\"\n",
        ")\n",
        "\n",
        "mlp = MLP( 14 , 200, 1 ).to(device)\n",
        "\n",
        "\n",
        "# Construimos el optimizador, y le indicamos que los parámetros a optimizar\n",
        "# son los del modelo definido: net.parameters()\n",
        "\n",
        "optimizer = torch.optim.Adam(mlp.parameters(), lr=learning_rate)\n",
        "\n",
        "# Definimos también la función de pérdida a utilizar\n",
        "criterion = nn.MSELoss(reduction='mean')\n",
        "\n",
        "\n",
        "# Creamos el objeto dataset que empaqueta los array de numpy para que puedan\n",
        "# ser leidos por PyTorch\n",
        "dataset = TensorDataset(torch.from_numpy(X_train).clone(), torch.from_numpy(y_train).clone())\n",
        "\n",
        "# Creamos un loader iterable indicandole que debe leer los datos a partir de\n",
        "# del dataset creado en el paso anterior. Este objeto puede ser iterado\n",
        "# y nos devuelve de a un batch (x, y).\n",
        "loader = DataLoader(dataset=dataset, batch_size=batch_size, shuffle=True)\n",
        "\n",
        "# Número de épocas\n",
        "num_epochs = 5000\n",
        "\n",
        "# Lista en la que iremos guardando el valor de la función de pérdida en cada\n",
        "# etapa de entrenamiento\n",
        "loss_list = []\n",
        "\n",
        "# Bucle de entrenamiento\n",
        "for i in range(num_epochs):\n",
        "\n",
        "    total_loss = 0.0\n",
        "    for x, y in loader:\n",
        "        x = x.to(device)\n",
        "        y = y.to(device)\n",
        "        # Seteo en cero los gradientes de los parámetros a optimizar\n",
        "        optimizer.zero_grad()\n",
        "\n",
        "        # Realizo la pasada forward por la red\n",
        "        output = mlp(x)\n",
        "        loss = criterion(output, y)\n",
        "\n",
        "        # Realizo la pasada backward por la red\n",
        "        loss.backward()\n",
        "\n",
        "        # Actualizo los pesos de la red con el optimizador\n",
        "        optimizer.step()\n",
        "\n",
        "        # Me guardo el valor actual de la función de pérdida para luego graficarlo\n",
        "        loss_list.append(loss.data.item())\n",
        "\n",
        "        # Acumulo la loss del minibatch\n",
        "        total_loss += loss.item() * y.size(0)\n",
        "\n",
        "    # Normalizo la loss total\n",
        "    total_loss/= len(loader.dataset)\n",
        "\n",
        "    # Muestro el valor de la función de pérdida cada 100 iteraciones\n",
        "    if i > 0 and i % 100 == 0:\n",
        "        print('Epoch %d, loss = %g' % (i, total_loss))\n",
        "\n",
        "# Muestro la lista que contiene los valores de la función de pérdida\n",
        "# y una versión suavizada (rojo) para observar la tendencia\n",
        "plt.figure()\n",
        "loss_np_array = np.array(loss_list)\n",
        "plt.plot(loss_np_array, alpha = 0.3)\n",
        "N = 60\n",
        "running_avg_loss = np.convolve(loss_np_array, np.ones((N,))/N, mode='valid')\n",
        "plt.plot(running_avg_loss, color='red')\n",
        "plt.title(\"Función de pérdida durante el entrenamiento\")"
      ],
      "metadata": {
        "colab": {
          "base_uri": "https://localhost:8080/",
          "height": 1000
        },
        "id": "26ff2aa2a6843800",
        "outputId": "98eaf41e-61f5-4302-fe26-fee87c713966"
      },
      "id": "26ff2aa2a6843800",
      "execution_count": 5
    },
    {
      "cell_type": "code",
      "outputs": [],
      "source": [
        "import autoencoder as auto"
      ],
      "metadata": {
        "id": "3c909adc0ff44247"
      },
      "id": "3c909adc0ff44247",
      "execution_count": 6
    },
    {
      "cell_type": "code",
      "source": [
        "from scipy.spatial.distance import cdist\n",
        "\n",
        "def geometric_median(points, eps=1e-6, max_iter=1000):\n",
        "    \"\"\"\n",
        "    Calculate the geometric median of a set of points using Weiszfeld's algorithm.\n",
        "\n",
        "    Parameters:\n",
        "    points: numpy array of shape (n, d) where n is number of points and d is dimensions\n",
        "    eps: convergence threshold\n",
        "    max_iter: maximum number of iterations\n",
        "\n",
        "    Returns:\n",
        "    geometric_median: numpy array of shape (d,)\n",
        "    n_iter: number of iterations performed\n",
        "    \"\"\"\n",
        "    # Initial guess: centroid\n",
        "    y = np.mean(points, axis=0)\n",
        "\n",
        "    for iter_count in range(max_iter):\n",
        "        # Calculate distances from current estimate to all points\n",
        "        distances = cdist(points, y.reshape(1, -1)).ravel()\n",
        "\n",
        "        # Handle zero distances to avoid division by zero\n",
        "        distances[distances < eps] = eps\n",
        "\n",
        "        # Compute weights\n",
        "        weights = 1 / distances\n",
        "\n",
        "        # Calculate new estimate\n",
        "        y_new = np.average(points, axis=0, weights=weights)\n",
        "\n",
        "        # Check convergence\n",
        "        if np.linalg.norm(y - y_new) < eps:\n",
        "            return y_new, iter_count + 1\n",
        "\n",
        "        y = y_new\n",
        "\n",
        "    return y, max_iter"
      ],
      "metadata": {
        "id": "WlkX6KZVDGDo"
      },
      "id": "WlkX6KZVDGDo",
      "execution_count": 7,
      "outputs": []
    },
    {
      "cell_type": "code",
      "source": [
        "geo_median, _ = geometric_median(data)"
      ],
      "metadata": {
        "id": "ntRN0M3bDG4v"
      },
      "id": "ntRN0M3bDG4v",
      "execution_count": null,
      "outputs": []
    },
    {
      "cell_type": "code",
      "source": [
        "autoencoder = auto.Autoencoder(\n",
        "                  dim_activaciones = 200,\n",
        "                  dim_rala = 400,\n",
        "                  dataset_geometric_median = np.zeros(200)\n",
        "              ).to(device)"
      ],
      "metadata": {
        "id": "EKVluZeg9lKP"
      },
      "id": "EKVluZeg9lKP",
      "execution_count": 8,
      "outputs": []
    },
    {
      "cell_type": "code",
      "source": [
        "loss_list = []\n",
        "\n",
        "optimizer = torch.optim.Adam(autoencoder.parameters(), lr=learning_rate)\n",
        "\n",
        "criterion = auto.lossAutoencoder()\n",
        "\n",
        "# Bucle de entrenamiento\n",
        "for i in range(num_epochs):\n",
        "\n",
        "    total_loss = 0.0\n",
        "    for x, y in loader:\n",
        "        x = x.to(device)\n",
        "\n",
        "        #Agarro las activaciones del mlp, sin pasar por gradiente\n",
        "        with torch.no_grad():\n",
        "            x_embedding = mlp.embed(x)\n",
        "\n",
        "        # Seteo en cero los gradientes de los parámetros a optimizar\n",
        "        optimizer.zero_grad()\n",
        "\n",
        "        # Realizo la pasada forward por la red\n",
        "        encoded, decoded = autoencoder(x_embedding)\n",
        "        loss = criterion(x_embedding, encoded, decoded)\n",
        "\n",
        "        # Realizo la pasada backward por la red\n",
        "        loss.backward()\n",
        "\n",
        "        # Actualizo los pesos de la red con el optimizador\n",
        "        optimizer.step()\n",
        "\n",
        "        # Normalizo los pesos del decoder\n",
        "        autoencoder.normalize_decoder_weights()\n",
        "\n",
        "        # Me guardo el valor actual de la función de pérdida para luego graficarlo\n",
        "        loss_list.append(loss.data.item())\n",
        "\n",
        "        # Acumulo la loss del minibatch\n",
        "        total_loss += loss.item() * x.size(0)\n",
        "\n",
        "    # Normalizo la loss total\n",
        "    total_loss/= len(loader.dataset)\n",
        "\n",
        "    # Muestro el valor de la función de pérdida cada 100 iteraciones\n",
        "    if i > 0 and i % 100 == 0:\n",
        "        print('Epoch %d, loss = %g' % (i, total_loss))\n",
        "\n",
        "# Muestro la lista que contiene los valores de la función de pérdida\n",
        "# y una versión suavizada (rojo) para observar la tendencia\n",
        "plt.figure()\n",
        "loss_np_array = np.array(loss_list)\n",
        "plt.plot(loss_np_array, alpha = 0.3)\n",
        "N = 60\n",
        "running_avg_loss = np.convolve(loss_np_array, np.ones((N,))/N, mode='valid')\n",
        "plt.plot(running_avg_loss, color='red')\n",
        "plt.title(\"Función de pérdida durante el entrenamiento AUTOENCODER\")"
      ],
      "metadata": {
        "colab": {
          "base_uri": "https://localhost:8080/",
          "height": 1000
        },
        "id": "uRhmadfaDn9A",
        "outputId": "3368f4e1-0de8-4b3b-fc59-12789c79f76e"
      },
      "id": "uRhmadfaDn9A",
      "execution_count": 9,
      "outputs": [
        {
          "output_type": "stream",
          "name": "stdout",
          "text": [
            "Epoch 100, loss = 3.36624\n",
            "Epoch 200, loss = 2.77142\n",
            "Epoch 300, loss = 2.86403\n",
            "Epoch 400, loss = 2.28779\n",
            "Epoch 500, loss = 2.43097\n",
            "Epoch 600, loss = 2.06204\n",
            "Epoch 700, loss = 2.22451\n",
            "Epoch 800, loss = 2.28613\n",
            "Epoch 900, loss = 2.00847\n",
            "Epoch 1000, loss = 2.05385\n",
            "Epoch 1100, loss = 2.18214\n",
            "Epoch 1200, loss = 2.01653\n",
            "Epoch 1300, loss = 2.00238\n",
            "Epoch 1400, loss = 1.90484\n",
            "Epoch 1500, loss = 1.81945\n",
            "Epoch 1600, loss = 1.67528\n",
            "Epoch 1700, loss = 1.53573\n",
            "Epoch 1800, loss = 1.64163\n",
            "Epoch 1900, loss = 1.70428\n",
            "Epoch 2000, loss = 1.4429\n",
            "Epoch 2100, loss = 1.39496\n",
            "Epoch 2200, loss = 1.4076\n",
            "Epoch 2300, loss = 1.30996\n",
            "Epoch 2400, loss = 1.17592\n",
            "Epoch 2500, loss = 1.14959\n",
            "Epoch 2600, loss = 1.11052\n",
            "Epoch 2700, loss = 1.04903\n",
            "Epoch 2800, loss = 1.0109\n",
            "Epoch 2900, loss = 0.983531\n",
            "Epoch 3000, loss = 0.960267\n",
            "Epoch 3100, loss = 0.906473\n",
            "Epoch 3200, loss = 0.849881\n",
            "Epoch 3300, loss = 0.824342\n",
            "Epoch 3400, loss = 0.797204\n",
            "Epoch 3500, loss = 0.786922\n",
            "Epoch 3600, loss = 0.757776\n",
            "Epoch 3700, loss = 0.733063\n",
            "Epoch 3800, loss = 0.723636\n",
            "Epoch 3900, loss = 0.703437\n",
            "Epoch 4000, loss = 0.692032\n",
            "Epoch 4100, loss = 0.681424\n",
            "Epoch 4200, loss = 0.678251\n",
            "Epoch 4300, loss = 0.679979\n",
            "Epoch 4400, loss = 0.673665\n",
            "Epoch 4500, loss = 0.668417\n",
            "Epoch 4600, loss = 0.666172\n",
            "Epoch 4700, loss = 0.661914\n",
            "Epoch 4800, loss = 0.666919\n",
            "Epoch 4900, loss = 0.672163\n"
          ]
        },
        {
          "output_type": "execute_result",
          "data": {
            "text/plain": [
              "Text(0.5, 1.0, 'Función de pérdida durante el entrenamiento AUTOENCODER')"
            ]
          },
          "metadata": {},
          "execution_count": 9
        },
        {
          "output_type": "display_data",
          "data": {
            "text/plain": [
              "<Figure size 640x480 with 1 Axes>"
            ],
            "image/png": "[encoded data removed]"
          },
          "metadata": {}
        }
      ]
    }
  ],
  "metadata": {
    "kernelspec": {
      "display_name": "Python 3",
      "name": "python3"
    },
    "language_info": {
      "codemirror_mode": {
        "name": "ipython",
        "version": 2
      },
      "file_extension": ".py",
      "mimetype": "text/x-python",
      "name": "python",
      "nbconvert_exporter": "python",
      "pygments_lexer": "ipython2",
      "version": "2.7.6"
    },
    "colab": {
      "provenance": [],
      "gpuType": "T4"
    },
    "accelerator": "GPU"
  },
  "nbformat": 4,
  "nbformat_minor": 5
}