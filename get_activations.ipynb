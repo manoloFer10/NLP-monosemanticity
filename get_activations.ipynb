{
 "cells": [
  {
   "cell_type": "code",
   "execution_count": 6,
   "metadata": {},
   "outputs": [],
   "source": [
    "import mlflow\n",
    "import mlflow_env\n",
    "import pandas as pd"
   ]
  },
  {
   "cell_type": "code",
   "execution_count": 7,
   "metadata": {},
   "outputs": [
    {
     "name": "stderr",
     "output_type": "stream",
     "text": [
      "Downloading artifacts: 100%|██████████| 1/1 [00:00<00:00,  8.70it/s]\n"
     ]
    },
    {
     "data": {
      "text/html": [
       "<div>\n",
       "<style scoped>\n",
       "    .dataframe tbody tr th:only-of-type {\n",
       "        vertical-align: middle;\n",
       "    }\n",
       "\n",
       "    .dataframe tbody tr th {\n",
       "        vertical-align: top;\n",
       "    }\n",
       "\n",
       "    .dataframe thead th {\n",
       "        text-align: right;\n",
       "    }\n",
       "</style>\n",
       "<table border=\"1\" class=\"dataframe\">\n",
       "  <thead>\n",
       "    <tr style=\"text-align: right;\">\n",
       "      <th></th>\n",
       "      <th>Activacion</th>\n",
       "      <th>Tokens Id</th>\n",
       "      <th>Context</th>\n",
       "    </tr>\n",
       "  </thead>\n",
       "  <tbody>\n",
       "    <tr>\n",
       "      <th>0</th>\n",
       "      <td>1.729646</td>\n",
       "      <td>this</td>\n",
       "      <td>this period . Crusaders who passed through th...</td>\n",
       "    </tr>\n",
       "    <tr>\n",
       "      <th>1</th>\n",
       "      <td>1.729646</td>\n",
       "      <td>this</td>\n",
       "      <td>this evidence from Israeli and other sources ...</td>\n",
       "    </tr>\n",
       "    <tr>\n",
       "      <th>2</th>\n",
       "      <td>1.729646</td>\n",
       "      <td>this</td>\n",
       "      <td>this stage Villaret knew through his patrolli...</td>\n",
       "    </tr>\n",
       "    <tr>\n",
       "      <th>3</th>\n",
       "      <td>1.729646</td>\n",
       "      <td>this</td>\n",
       "      <td>this country ... it is too delicate and beaut...</td>\n",
       "    </tr>\n",
       "    <tr>\n",
       "      <th>4</th>\n",
       "      <td>1.729646</td>\n",
       "      <td>this</td>\n",
       "      <td>this before — doing all my backup vocals , es...</td>\n",
       "    </tr>\n",
       "  </tbody>\n",
       "</table>\n",
       "</div>"
      ],
      "text/plain": [
       "   Activacion Tokens Id                                            Context\n",
       "0    1.729646      this   this period . Crusaders who passed through th...\n",
       "1    1.729646      this   this evidence from Israeli and other sources ...\n",
       "2    1.729646      this   this stage Villaret knew through his patrolli...\n",
       "3    1.729646      this   this country ... it is too delicate and beaut...\n",
       "4    1.729646      this   this before — doing all my backup vocals , es..."
      ]
     },
     "execution_count": 7,
     "metadata": {},
     "output_type": "execute_result"
    }
   ],
   "source": [
    "activations_run_id = \"aefc69b302344a82819ac12c594252c4\"\n",
    "mlflow.set_experiment(\"Activations\")\n",
    "\n",
    "feature_0_path = mlflow.artifacts.download_artifacts(\n",
    "    run_id=activations_run_id, artifact_path=\"activations_feature_0.csv\"\n",
    ")\n",
    "\n",
    "df_feature_0 = pd.read_csv(feature_0_path)\n",
    "df_feature_0.head()"
   ]
  }
 ],
 "metadata": {
  "kernelspec": {
   "display_name": "base",
   "language": "python",
   "name": "python3"
  },
  "language_info": {
   "codemirror_mode": {
    "name": "ipython",
    "version": 3
   },
   "file_extension": ".py",
   "mimetype": "text/x-python",
   "name": "python",
   "nbconvert_exporter": "python",
   "pygments_lexer": "ipython3",
   "version": "3.12.2"
  }
 },
 "nbformat": 4,
 "nbformat_minor": 2
}
