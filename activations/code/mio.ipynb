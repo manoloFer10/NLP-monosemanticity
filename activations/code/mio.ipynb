{
 "cells": [
  {
   "cell_type": "code",
   "execution_count": null,
   "metadata": {},
   "outputs": [],
   "source": [
    "import torch\n",
    "import torch.nn as nn\n",
    "import matplotlib.pyplot as plt\n",
    "\n",
    "import time\n",
    "import torch\n",
    "from torchinfo import summary\n",
    "import mlflow\n",
    "import os\n",
    "import sys\n",
    "\n",
    "\n",
    "sys.path.append(\"../..\")\n",
    "\n",
    "from modelos.GPT.text_loader import TextLoader\n",
    "from modelos.GPT.gpt import GPTLanguageModel\n",
    "from modelos.GPT.utils import estimate_loss, save_wikipedia, get_tokenizer\n",
    "\n",
    "dataset = \"wikitext-103-v1\"\n",
    "subsets_max_size = 20\n",
    "num_training_subsets = 1\n",
    "\n",
    "tokenizer = get_tokenizer(\"gpt2\")\n",
    "vocab_size = tokenizer.vocab_size\n",
    "\n",
    "context_length = 3\n",
    "embedding_dim = 64\n",
    "num_of_attention_heads = 1\n",
    "num_of_blocks = 1\n",
    "\n",
    "batch_size = 64\n",
    "learning_rate = 0.0001\n",
    "dropout = 0.1\n",
    "\n",
    "eval_interval = 20\n",
    "epochs = 1\n",
    "\n",
    "device = (\n",
    "    \"cuda\" if torch.cuda.is_available() else \"mps\" if torch.backends.mps.is_available() else \"cpu\"\n",
    ")\n",
    "\n",
    "os.environ[\"GOOGLE_APPLICATION_CREDENTIALS\"] = \"../../credentials.json\"\n"
   ]
  },
  {
   "cell_type": "code",
   "execution_count": 16,
   "metadata": {},
   "outputs": [
    {
     "name": "stdout",
     "output_type": "stream",
     "text": [
      "6.529105 M parameters\n"
     ]
    }
   ],
   "source": [
    "model = GPTLanguageModel(\n",
    "    vocab_size=vocab_size,\n",
    "    embedding_dim=embedding_dim,\n",
    "    num_of_attention_heads=num_of_attention_heads,\n",
    "    num_of_blocks=num_of_blocks,\n",
    "    context_length=context_length,\n",
    "    dropout=dropout,\n",
    "    device=device,\n",
    ")\n",
    "m = model.to(device)\n",
    "optimizer = torch.optim.AdamW(model.parameters(), lr=learning_rate)\n",
    "\n",
    "def train_subset(model, optimizer, subset):\n",
    "    \n",
    "    data = torch.tensor(tokenizer.encode(subset), dtype=torch.long)\n",
    "    train_size = int(0.2 * len(data))\n",
    "    \n",
    "    train_data_loader = TextLoader(data[:train_size], context_length, batch_size, device)\n",
    "    eval_data_loader = TextLoader(data[train_size:], context_length, batch_size, device)\n",
    "    \n",
    "    num_batches = len(train_data_loader)\n",
    "    eval_every_n_batches = num_batches // 5\n",
    "    \n",
    "    start_time = time.time()\n",
    "    for batch in range(num_batches):\n",
    "        if batch % eval_every_n_batches == 0:\n",
    "            losses = estimate_loss(model, train_data_loader, eval_data_loader, eval_interval)\n",
    "            interval = time.time() - start_time\n",
    "            print(\n",
    "                f\"step {batch}/{num_batches}: train loss {losses['train']:.4f}, eval loss {losses['eval']:.4f}, interval time ({device}): {interval}\"\n",
    "            )\n",
    "            start_time = time.time()\n",
    "\n",
    "\n",
    "        xb, yb = train_data_loader.get_batch()\n",
    "        _, loss = model(xb, yb)\n",
    "        optimizer.zero_grad(set_to_none=True)\n",
    "        loss.backward()\n",
    "        optimizer.step()\n",
    "\n",
    "\n",
    "print(sum(p.numel() for p in m.parameters()) / 1e6, \"M parameters\")\n"
   ]
  },
  {
   "cell_type": "code",
   "execution_count": null,
   "metadata": {},
   "outputs": [],
   "source": [
    "for t in range(epochs):\n",
    "    print(f\"Epoch {t+1}\")\n",
    "    print(\"____________________________________________________\")\n",
    "    for i in range(num_training_subsets):\n",
    "\n",
    "        print(f\"Training subset {i+1}\")\n",
    "        print(\"____________________________________\")\n",
    "\n",
    "        with open(f\"data/wikitext-103-v1/train-{0}.txt\", \"r\", encoding=\"utf-8\") as f:\n",
    "            subset = f.read()\n",
    "            train_subset(model, optimizer, subset)\n",
    "\n",
    "if not os.path.exists(\"checkpoints\"):\n",
    "    os.makedirs(\"checkpoints\", exist_ok=True)\n",
    "\n",
    "torch.save(model, \"checkpoints/model.pth\")"
   ]
  }
 ],
 "metadata": {
  "kernelspec": {
   "display_name": "nlp_monosemanticity",
   "language": "python",
   "name": "python3"
  },
  "language_info": {
   "codemirror_mode": {
    "name": "ipython",
    "version": 3
   },
   "file_extension": ".py",
   "mimetype": "text/x-python",
   "name": "python",
   "nbconvert_exporter": "python",
   "pygments_lexer": "ipython3",
   "version": "3.12.7"
  }
 },
 "nbformat": 4,
 "nbformat_minor": 2
}
