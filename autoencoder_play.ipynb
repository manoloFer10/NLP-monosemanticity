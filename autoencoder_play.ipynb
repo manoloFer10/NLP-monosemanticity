{
 "cells": [
  {
   "cell_type": "code",
   "execution_count": 1,
   "metadata": {},
   "outputs": [
    {
     "name": "stderr",
     "output_type": "stream",
     "text": [
      "/home/test/miniconda3/lib/python3.12/site-packages/tqdm/auto.py:21: TqdmWarning: IProgress not found. Please update jupyter and ipywidgets. See https://ipywidgets.readthedocs.io/en/stable/user_install.html\n",
      "  from .autonotebook import tqdm as notebook_tqdm\n"
     ]
    }
   ],
   "source": [
    "import mlflow\n",
    "import torch\n",
    "from gpt import GPTLanguageModel\n",
    "from autoencoder import Autoencoder\n",
    "import os\n",
    "from gpt_params import tokenizer"
   ]
  },
  {
   "cell_type": "code",
   "execution_count": 2,
   "metadata": {},
   "outputs": [
    {
     "name": "stderr",
     "output_type": "stream",
     "text": [
      "Downloading artifacts: 100%|██████████| 1/1 [00:06<00:00,  6.96s/it]\n",
      "/home/test/nlp/NLP-monosemanticity/gpt.py:151: FutureWarning: You are using `torch.load` with `weights_only=False` (the current default value), which uses the default pickle module implicitly. It is possible to construct malicious pickle data which will execute arbitrary code during unpickling (See https://github.com/pytorch/pytorch/blob/main/SECURITY.md#untrusted-models for more details). In a future release, the default value for `weights_only` will be flipped to `True`. This limits the functions that could be executed during unpickling. Arbitrary objects will no longer be allowed to be loaded via this mode unless they are explicitly allowlisted by the user via `torch.serialization.add_safe_globals`. We recommend you start setting `weights_only=True` for any use case where you don't have full control of the loaded file. Please open an issue on GitHub for any issues related to this experimental feature.\n",
      "  model = torch.load(local_model_path, map_location=device)\n",
      "Downloading artifacts: 100%|██████████| 1/1 [00:01<00:00,  1.04s/it]\n",
      "/home/test/nlp/NLP-monosemanticity/autoencoder.py:57: FutureWarning: You are using `torch.load` with `weights_only=False` (the current default value), which uses the default pickle module implicitly. It is possible to construct malicious pickle data which will execute arbitrary code during unpickling (See https://github.com/pytorch/pytorch/blob/main/SECURITY.md#untrusted-models for more details). In a future release, the default value for `weights_only` will be flipped to `True`. This limits the functions that could be executed during unpickling. Arbitrary objects will no longer be allowed to be loaded via this mode unless they are explicitly allowlisted by the user via `torch.serialization.add_safe_globals`. We recommend you start setting `weights_only=True` for any use case where you don't have full control of the loaded file. Please open an issue on GitHub for any issues related to this experimental feature.\n",
      "  model = torch.load(local_model_path, map_location=device)\n"
     ]
    }
   ],
   "source": [
    "transformer_run_id = \"1631cdf63904427fb5833afa9372b625\"\n",
    "autoencoder_run_id = \"59895464989d4ab488bf5d1cd9d77c9f\"\n",
    "\n",
    "os.environ[\"GOOGLE_APPLICATION_CREDENTIALS\"] = \"credentials.json\"\n",
    "mlflow.set_tracking_uri(uri=\"http://34.176.189.11:5000\")\n",
    "device = (\n",
    "    \"cuda\" if torch.cuda.is_available() else \"mps\" if torch.backends.mps.is_available() else \"cpu\"\n",
    ")\n",
    "\n",
    "gpt = GPTLanguageModel.load_from_mlflow(\"Transformer\", transformer_run_id, device)\n",
    "autoencoder = Autoencoder.load_from_mlflow(\"Autoencoder\", autoencoder_run_id, device)\n"
   ]
  },
  {
   "cell_type": "code",
   "execution_count": 3,
   "metadata": {},
   "outputs": [
    {
     "data": {
      "text/plain": [
       "tensor([[[0.0000, 0.0000, 0.0000,  ..., 0.0000, 0.0000, 0.5510],\n",
       "         [0.0000, 0.0000, 0.0000,  ..., 0.0000, 0.0000, 0.0781],\n",
       "         [0.0000, 0.0000, 0.0000,  ..., 0.0000, 0.0000, 0.0000],\n",
       "         ...,\n",
       "         [0.0000, 0.0000, 0.0000,  ..., 0.0000, 0.0000, 0.0000],\n",
       "         [0.0000, 0.0000, 0.0000,  ..., 0.0000, 0.0000, 0.0000],\n",
       "         [0.0000, 0.0000, 0.0000,  ..., 0.0000, 0.0000, 0.5303]]],\n",
       "       grad_fn=<ReluBackward0>)"
      ]
     },
     "execution_count": 3,
     "metadata": {},
     "output_type": "execute_result"
    }
   ],
   "source": [
    "autoencoder.eval()\n",
    "gpt.eval()\n",
    "\n",
    "idx = (\n",
    "    torch.tensor(tokenizer.encode(\"The quick brown fox jumps over the lazy dog\"), dtype=torch.long)\n",
    "    .unsqueeze(0)\n",
    "    .to(device)\n",
    ")\n",
    "x_embed = gpt.embed(idx)\n",
    "activations = autoencoder.encode(x_embed)\n",
    "activations"
   ]
  },
  {
   "cell_type": "code",
   "execution_count": 5,
   "metadata": {},
   "outputs": [
    {
     "data": {
      "text/plain": [
       "tensor([7, 9, 7, 9, 6, 6, 7, 8, 8, 6, 8, 6, 6, 6, 9, 7, 8, 6, 6, 9, 6, 7, 7, 8,\n",
       "        8, 7, 6, 8, 7, 8, 9, 6, 7, 6, 8, 9, 5, 6, 6, 8, 9, 5, 5, 6, 7, 7, 8, 5,\n",
       "        5, 8, 6, 8, 7, 9, 8, 7, 9, 8, 6, 8, 4, 5, 6, 7, 5, 8, 8, 7, 9, 6, 7, 9,\n",
       "        7, 6, 7, 7, 8, 4, 8, 6, 8, 9, 6, 7, 5, 7, 9, 5, 7, 7, 7, 6, 7, 6, 7, 5,\n",
       "        9, 8, 7, 7, 3, 8, 9, 5, 6, 6, 6, 7, 4, 6, 8, 8, 6, 9, 5, 7, 9, 8, 8, 7,\n",
       "        6, 7, 8, 8, 6, 9, 6, 4])"
      ]
     },
     "execution_count": 5,
     "metadata": {},
     "output_type": "execute_result"
    }
   ],
   "source": [
    "(abs(x_embed) > 0.01).sum(dim=(0, 1))"
   ]
  },
  {
   "cell_type": "code",
   "execution_count": 9,
   "metadata": {},
   "outputs": [
    {
     "data": {
      "text/plain": [
       "tensor([6, 0, 0, 0, 0, 2, 1, 0, 9, 0, 0, 9, 0, 7, 0, 0, 9, 2, 0, 0, 9, 9, 9, 0,\n",
       "        9, 2, 9, 0, 0, 9, 8, 0, 3, 0, 5, 9, 0, 7, 8, 0, 0, 9, 9, 5, 1, 0, 3, 0,\n",
       "        0, 1, 0, 0, 9, 0, 4, 7, 0, 9, 0, 0, 0, 4, 0, 7, 9, 8, 3, 0, 7, 3, 3, 5,\n",
       "        6, 9, 9, 4, 9, 0, 8, 0, 1, 9, 0, 7, 0, 2, 8, 0, 8, 1, 8, 0, 0, 0, 9, 9,\n",
       "        0, 0, 0, 9, 1, 0, 6, 0, 0, 0, 0, 0, 0, 0, 9, 2, 9, 1, 0, 9, 0, 0, 4, 0,\n",
       "        9, 0, 0, 0, 0, 6, 9, 8, 7, 9, 9, 0, 3, 2, 0, 0, 0, 1, 9, 0, 8, 6, 9, 4,\n",
       "        0, 5, 0, 0, 0, 1, 0, 9, 7, 0, 9, 0, 0, 0, 0, 0, 9, 9, 0, 5, 9, 1, 0, 9,\n",
       "        0, 0, 5, 1, 0, 8, 0, 9, 2, 0, 0, 9, 0, 0, 1, 9, 0, 0, 1, 1, 0, 1, 0, 0,\n",
       "        3, 0, 8, 0, 6, 0, 9, 0, 9, 0, 9, 4, 1, 0, 0, 9, 4, 9, 0, 0, 0, 2, 5, 0,\n",
       "        9, 8, 3, 0, 0, 7, 7, 0, 0, 9, 1, 0, 0, 8, 2, 2, 0, 7, 2, 5, 1, 9, 0, 0,\n",
       "        0, 9, 6, 9, 0, 0, 0, 9, 0, 6, 0, 9, 0, 6, 3, 9, 9, 7, 0, 0, 9, 2, 0, 0,\n",
       "        3, 0, 0, 0, 0, 0, 8, 0, 0, 1, 9, 8, 4, 0, 9, 0, 0, 1, 9, 1, 9, 0, 0, 0,\n",
       "        0, 0, 0, 2, 0, 2, 0, 0, 1, 3, 0, 0, 9, 0, 0, 0, 0, 1, 1, 2, 8, 0, 0, 9,\n",
       "        0, 0, 9, 9, 9, 0, 0, 0, 9, 0, 0, 0, 9, 0, 0, 0, 9, 9, 7, 0, 8, 0, 0, 9,\n",
       "        0, 8, 6, 0, 7, 3, 0, 0, 0, 1, 0, 0, 0, 0, 9, 1, 4, 9, 0, 0, 0, 0, 0, 0,\n",
       "        0, 0, 0, 0, 0, 0, 0, 0, 9, 0, 0, 0, 9, 0, 9, 0, 0, 0, 0, 0, 0, 9, 0, 0,\n",
       "        0, 8, 0, 0, 0, 0, 0, 0, 2, 0, 0, 0, 0, 9, 9, 0, 0, 7, 2, 9, 0, 0, 0, 0,\n",
       "        0, 0, 0, 0, 0, 2, 5, 7, 9, 9, 0, 0, 0, 2, 0, 0, 0, 9, 9, 0, 0, 0, 5, 0,\n",
       "        0, 0, 7, 4, 6, 5, 0, 9, 7, 9, 0, 9, 0, 9, 0, 1, 5, 0, 8, 0, 9, 1, 0, 9,\n",
       "        0, 0, 0, 4, 0, 0, 3, 0, 0, 0, 0, 9, 7, 0, 0, 0, 0, 8, 0, 9, 1, 0, 0, 0,\n",
       "        9, 0, 9, 6, 9, 0, 9, 7, 0, 0, 9, 2, 0, 0, 9, 0, 0, 0, 9, 9, 4, 0, 0, 0,\n",
       "        0, 0, 0, 6, 0, 1, 9, 0])"
      ]
     },
     "execution_count": 9,
     "metadata": {},
     "output_type": "execute_result"
    }
   ],
   "source": [
    "eps = 1e-5\n",
    "activations_count = (activations > eps).sum(dim=(0, 1))\n",
    "activations_count"
   ]
  }
 ],
 "metadata": {
  "kernelspec": {
   "display_name": "base",
   "language": "python",
   "name": "python3"
  },
  "language_info": {
   "codemirror_mode": {
    "name": "ipython",
    "version": 3
   },
   "file_extension": ".py",
   "mimetype": "text/x-python",
   "name": "python",
   "nbconvert_exporter": "python",
   "pygments_lexer": "ipython3",
   "version": "3.12.2"
  }
 },
 "nbformat": 4,
 "nbformat_minor": 2
}
